{
 "cells": [
  {
   "cell_type": "code",
   "execution_count": 1,
   "id": "276acf61",
   "metadata": {},
   "outputs": [],
   "source": [
    "import selenium\n",
    "from selenium import  webdriver\n",
    "import pandas as pd\n",
    "import warnings\n",
    "warnings.filterwarnings('ignore')\n",
    "import time\n",
    "from selenium.common.exceptions import WebDriverException"
   ]
  },
  {
   "cell_type": "code",
   "execution_count": 2,
   "id": "08a06923",
   "metadata": {},
   "outputs": [],
   "source": [
    "PATH= \"C:\\chromedriver.exe\"\n",
    "driver = webdriver.Chrome(PATH)\n",
    "driver.get('https://www.google.com/travel/flights')"
   ]
  },
  {
   "cell_type": "markdown",
   "id": "52e0860c",
   "metadata": {},
   "source": [
    "#### By class name"
   ]
  },
  {
   "cell_type": "markdown",
   "id": "c5bfc4e2",
   "metadata": {},
   "source": [
    "##### Banglore to Delhi"
   ]
  },
  {
   "cell_type": "code",
   "execution_count": 3,
   "id": "dc379932",
   "metadata": {},
   "outputs": [
    {
     "data": {
      "text/plain": [
       "292"
      ]
     },
     "execution_count": 3,
     "metadata": {},
     "output_type": "execute_result"
    }
   ],
   "source": [
    "Air = []\n",
    "\n",
    "arr = driver.find_elements_by_xpath('//div[@class=\"TQqf0e sSHqwe tPgKwe ogfYpf\"]/span')\n",
    "for i in arr:\n",
    "    a = i.text\n",
    "    Air.append(a)\n",
    "    \n",
    "len(Air)"
   ]
  },
  {
   "cell_type": "code",
   "execution_count": 4,
   "id": "058b4d26",
   "metadata": {},
   "outputs": [
    {
     "data": {
      "text/plain": [
       "292"
      ]
     },
     "execution_count": 4,
     "metadata": {},
     "output_type": "execute_result"
    }
   ],
   "source": [
    "Depart = []\n",
    "\n",
    "dep = driver.find_elements_by_xpath('//span[@class=\"mv1WYe\"]/span[1]')\n",
    "for i in dep:\n",
    "    d = i.text\n",
    "    Depart.append(d)\n",
    "len(Depart)"
   ]
  },
  {
   "cell_type": "code",
   "execution_count": 5,
   "id": "5aea5d01",
   "metadata": {},
   "outputs": [
    {
     "data": {
      "text/plain": [
       "292"
      ]
     },
     "execution_count": 5,
     "metadata": {},
     "output_type": "execute_result"
    }
   ],
   "source": [
    "Arrival = []\n",
    "\n",
    "arriv = driver.find_elements_by_xpath('//span[@class=\"mv1WYe\"]/span[2]')\n",
    "for i in arriv:\n",
    "    arr = i.text\n",
    "    Arrival.append(arr)\n",
    "len(Arrival)"
   ]
  },
  {
   "cell_type": "code",
   "execution_count": 6,
   "id": "9651cfe7",
   "metadata": {},
   "outputs": [
    {
     "data": {
      "text/plain": [
       "292"
      ]
     },
     "execution_count": 6,
     "metadata": {},
     "output_type": "execute_result"
    }
   ],
   "source": [
    "Source = []\n",
    "\n",
    "source = driver.find_elements_by_xpath('//span[@class=\"z0fuv sSHqwe tPgKwe ogfYpf\"]/span[1]')\n",
    "for i in source:\n",
    "    s = i.text\n",
    "    Source.append(s)\n",
    "len(Source)"
   ]
  },
  {
   "cell_type": "code",
   "execution_count": 7,
   "id": "fe54cc10",
   "metadata": {},
   "outputs": [
    {
     "data": {
      "text/plain": [
       "292"
      ]
     },
     "execution_count": 7,
     "metadata": {},
     "output_type": "execute_result"
    }
   ],
   "source": [
    "Destination = []\n",
    "\n",
    "dest = driver.find_elements_by_xpath('//span[@class=\"z0fuv sSHqwe tPgKwe ogfYpf\"]/span[2]')\n",
    "for i in dest:\n",
    "    des = i.text\n",
    "    Destination.append(des)\n",
    "len(Destination)"
   ]
  },
  {
   "cell_type": "code",
   "execution_count": 8,
   "id": "8eeb0093",
   "metadata": {},
   "outputs": [
    {
     "data": {
      "text/plain": [
       "292"
      ]
     },
     "execution_count": 8,
     "metadata": {},
     "output_type": "execute_result"
    }
   ],
   "source": [
    "Duration = []\n",
    "\n",
    "dur = driver.find_elements_by_xpath('//div[@class=\"gvkrdb AdWm1c tPgKwe ogfYpf\"]')\n",
    "for i in dur:\n",
    "    dur = i.text\n",
    "    Duration.append(dur)\n",
    "len(Duration)"
   ]
  },
  {
   "cell_type": "code",
   "execution_count": 9,
   "id": "c8cb337d",
   "metadata": {},
   "outputs": [
    {
     "data": {
      "text/plain": [
       "292"
      ]
     },
     "execution_count": 9,
     "metadata": {},
     "output_type": "execute_result"
    }
   ],
   "source": [
    "Total_stops = []\n",
    "\n",
    "stops = driver.find_elements_by_xpath('//span[@class=\"pIgMWd ogfYpf\"]')\n",
    "for i in stops:\n",
    "    stp = i.text\n",
    "    Total_stops.append(stp)\n",
    "len(Total_stops)"
   ]
  },
  {
   "cell_type": "code",
   "execution_count": 10,
   "id": "ac78b669",
   "metadata": {},
   "outputs": [
    {
     "data": {
      "text/plain": [
       "292"
      ]
     },
     "execution_count": 10,
     "metadata": {},
     "output_type": "execute_result"
    }
   ],
   "source": [
    "Price = []\n",
    "\n",
    "price = driver.find_elements_by_xpath('//div[@class=\"BVAVmf I11szd POX3ye\"]/div[2]/span')\n",
    "for i in price:\n",
    "    p = i.text.strip('₹')\n",
    "    Price.append(p)\n",
    "len(Price)"
   ]
  },
  {
   "cell_type": "code",
   "execution_count": 13,
   "id": "b4deb23e",
   "metadata": {},
   "outputs": [
    {
     "data": {
      "text/plain": [
       "1"
      ]
     },
     "execution_count": 13,
     "metadata": {},
     "output_type": "execute_result"
    }
   ],
   "source": [
    "Date = []\n",
    "\n",
    "date = driver.find_elements_by_xpath('//div[@class=\"ZmKdL MZvrH QB2Jof\"]')\n",
    "for i in date:\n",
    "    dt = i.text\n",
    "    Date.append(dt)\n",
    "len(Date)"
   ]
  },
  {
   "cell_type": "code",
   "execution_count": 14,
   "id": "e16df12a",
   "metadata": {},
   "outputs": [
    {
     "data": {
      "text/html": [
       "<div>\n",
       "<style scoped>\n",
       "    .dataframe tbody tr th:only-of-type {\n",
       "        vertical-align: middle;\n",
       "    }\n",
       "\n",
       "    .dataframe tbody tr th {\n",
       "        vertical-align: top;\n",
       "    }\n",
       "\n",
       "    .dataframe thead th {\n",
       "        text-align: right;\n",
       "    }\n",
       "</style>\n",
       "<table border=\"1\" class=\"dataframe\">\n",
       "  <thead>\n",
       "    <tr style=\"text-align: right;\">\n",
       "      <th></th>\n",
       "      <th>Airline</th>\n",
       "      <th>Source</th>\n",
       "      <th>Destination</th>\n",
       "      <th>Departure</th>\n",
       "      <th>Arrival</th>\n",
       "      <th>Duration</th>\n",
       "      <th>Total_stops</th>\n",
       "      <th>Price</th>\n",
       "    </tr>\n",
       "  </thead>\n",
       "  <tbody>\n",
       "    <tr>\n",
       "      <th>0</th>\n",
       "      <td>SpiceJet</td>\n",
       "      <td>BLR</td>\n",
       "      <td>DEL</td>\n",
       "      <td>9:50 PM</td>\n",
       "      <td>12:35 AM+1</td>\n",
       "      <td>2 hr 45 min</td>\n",
       "      <td>Nonstop</td>\n",
       "      <td>7,089</td>\n",
       "    </tr>\n",
       "    <tr>\n",
       "      <th>1</th>\n",
       "      <td>GO FIRST</td>\n",
       "      <td>BLR</td>\n",
       "      <td>DEL</td>\n",
       "      <td>9:00 PM</td>\n",
       "      <td>11:45 PM</td>\n",
       "      <td>2 hr 45 min</td>\n",
       "      <td>Nonstop</td>\n",
       "      <td>7,332</td>\n",
       "    </tr>\n",
       "    <tr>\n",
       "      <th>2</th>\n",
       "      <td>Air India</td>\n",
       "      <td>BLR</td>\n",
       "      <td>DEL</td>\n",
       "      <td>10:00 AM</td>\n",
       "      <td>12:50 PM</td>\n",
       "      <td>2 hr 50 min</td>\n",
       "      <td>Nonstop</td>\n",
       "      <td>7,685</td>\n",
       "    </tr>\n",
       "    <tr>\n",
       "      <th>3</th>\n",
       "      <td>GO FIRST</td>\n",
       "      <td>BLR</td>\n",
       "      <td>DEL</td>\n",
       "      <td>5:45 AM</td>\n",
       "      <td>8:25 AM</td>\n",
       "      <td>2 hr 40 min</td>\n",
       "      <td>Nonstop</td>\n",
       "      <td>7,332</td>\n",
       "    </tr>\n",
       "    <tr>\n",
       "      <th>4</th>\n",
       "      <td>GO FIRST</td>\n",
       "      <td>BLR</td>\n",
       "      <td>DEL</td>\n",
       "      <td>5:30 AM</td>\n",
       "      <td>2:30 PM</td>\n",
       "      <td>9 hr</td>\n",
       "      <td>1 stop</td>\n",
       "      <td>7,333</td>\n",
       "    </tr>\n",
       "    <tr>\n",
       "      <th>...</th>\n",
       "      <td>...</td>\n",
       "      <td>...</td>\n",
       "      <td>...</td>\n",
       "      <td>...</td>\n",
       "      <td>...</td>\n",
       "      <td>...</td>\n",
       "      <td>...</td>\n",
       "      <td>...</td>\n",
       "    </tr>\n",
       "    <tr>\n",
       "      <th>287</th>\n",
       "      <td>Gulf Air</td>\n",
       "      <td>BLR</td>\n",
       "      <td>DEL</td>\n",
       "      <td>4:45 AM</td>\n",
       "      <td>3:05 AM+1</td>\n",
       "      <td>22 hr 20 min</td>\n",
       "      <td>1 stop</td>\n",
       "      <td>54,552</td>\n",
       "    </tr>\n",
       "    <tr>\n",
       "      <th>288</th>\n",
       "      <td>Emirates</td>\n",
       "      <td>BLR</td>\n",
       "      <td>DEL</td>\n",
       "      <td>8:50 PM</td>\n",
       "      <td>9:05 AM+1</td>\n",
       "      <td>12 hr 15 min</td>\n",
       "      <td>1 stop</td>\n",
       "      <td>54,762</td>\n",
       "    </tr>\n",
       "    <tr>\n",
       "      <th>289</th>\n",
       "      <td>Etihad</td>\n",
       "      <td>BLR</td>\n",
       "      <td>DEL</td>\n",
       "      <td>4:40 AM</td>\n",
       "      <td>7:30 PM</td>\n",
       "      <td>14 hr 50 min</td>\n",
       "      <td>1 stop</td>\n",
       "      <td>58,515</td>\n",
       "    </tr>\n",
       "    <tr>\n",
       "      <th>290</th>\n",
       "      <td>Etihad</td>\n",
       "      <td>BLR</td>\n",
       "      <td>DEL</td>\n",
       "      <td>4:40 AM</td>\n",
       "      <td>3:15 AM+1</td>\n",
       "      <td>22 hr 35 min</td>\n",
       "      <td>1 stop</td>\n",
       "      <td>58,515</td>\n",
       "    </tr>\n",
       "    <tr>\n",
       "      <th>291</th>\n",
       "      <td>Emirates</td>\n",
       "      <td>BLR</td>\n",
       "      <td>DEL</td>\n",
       "      <td>4:30 AM</td>\n",
       "      <td>2:45 PM</td>\n",
       "      <td>10 hr 15 min</td>\n",
       "      <td>1 stop</td>\n",
       "      <td>90,325</td>\n",
       "    </tr>\n",
       "  </tbody>\n",
       "</table>\n",
       "<p>292 rows × 8 columns</p>\n",
       "</div>"
      ],
      "text/plain": [
       "       Airline Source Destination Departure     Arrival      Duration  \\\n",
       "0     SpiceJet    BLR         DEL   9:50 PM  12:35 AM+1   2 hr 45 min   \n",
       "1     GO FIRST    BLR         DEL   9:00 PM    11:45 PM   2 hr 45 min   \n",
       "2    Air India    BLR         DEL  10:00 AM    12:50 PM   2 hr 50 min   \n",
       "3     GO FIRST    BLR         DEL   5:45 AM     8:25 AM   2 hr 40 min   \n",
       "4     GO FIRST    BLR         DEL   5:30 AM     2:30 PM          9 hr   \n",
       "..         ...    ...         ...       ...         ...           ...   \n",
       "287   Gulf Air    BLR         DEL   4:45 AM   3:05 AM+1  22 hr 20 min   \n",
       "288   Emirates    BLR         DEL   8:50 PM   9:05 AM+1  12 hr 15 min   \n",
       "289     Etihad    BLR         DEL   4:40 AM     7:30 PM  14 hr 50 min   \n",
       "290     Etihad    BLR         DEL   4:40 AM   3:15 AM+1  22 hr 35 min   \n",
       "291   Emirates    BLR         DEL   4:30 AM     2:45 PM  10 hr 15 min   \n",
       "\n",
       "    Total_stops   Price  \n",
       "0       Nonstop   7,089  \n",
       "1       Nonstop   7,332  \n",
       "2       Nonstop   7,685  \n",
       "3       Nonstop   7,332  \n",
       "4        1 stop   7,333  \n",
       "..          ...     ...  \n",
       "287      1 stop  54,552  \n",
       "288      1 stop  54,762  \n",
       "289      1 stop  58,515  \n",
       "290      1 stop  58,515  \n",
       "291      1 stop  90,325  \n",
       "\n",
       "[292 rows x 8 columns]"
      ]
     },
     "execution_count": 14,
     "metadata": {},
     "output_type": "execute_result"
    }
   ],
   "source": [
    "import pandas as pd\n",
    "\n",
    "FLIGHT = pd.DataFrame({})\n",
    "FLIGHT['Airline'] = Air\n",
    "FLIGHT['Source'] = Source\n",
    "FLIGHT['Destination'] = Destination\n",
    "FLIGHT['Departure'] = Depart\n",
    "FLIGHT['Arrival'] = Arrival\n",
    "FLIGHT['Duration'] = Duration\n",
    "FLIGHT['Total_stops'] = Total_stops\n",
    "FLIGHT['Price'] = Price\n",
    "\n",
    "FLIGHT"
   ]
  },
  {
   "cell_type": "code",
   "execution_count": 15,
   "id": "69e4062c",
   "metadata": {},
   "outputs": [],
   "source": [
    "FLIGHT.to_csv('BD.csv')"
   ]
  },
  {
   "cell_type": "markdown",
   "id": "bb349198",
   "metadata": {},
   "source": [
    "##### Mumbai to Kolkata"
   ]
  },
  {
   "cell_type": "code",
   "execution_count": 16,
   "id": "4d531e9a",
   "metadata": {},
   "outputs": [
    {
     "data": {
      "text/plain": [
       "214"
      ]
     },
     "execution_count": 16,
     "metadata": {},
     "output_type": "execute_result"
    }
   ],
   "source": [
    "Air = []\n",
    "\n",
    "arr = driver.find_elements_by_xpath('//div[@class=\"TQqf0e sSHqwe tPgKwe ogfYpf\"]/span')\n",
    "for i in arr:\n",
    "    a = i.text\n",
    "    Air.append(a)\n",
    "    \n",
    "len(Air)"
   ]
  },
  {
   "cell_type": "code",
   "execution_count": 17,
   "id": "b26aaf0e",
   "metadata": {},
   "outputs": [
    {
     "data": {
      "text/plain": [
       "214"
      ]
     },
     "execution_count": 17,
     "metadata": {},
     "output_type": "execute_result"
    }
   ],
   "source": [
    "Departure = []\n",
    "\n",
    "dept = driver.find_elements_by_xpath('//span[@class=\"mv1WYe\"]/span[1]')\n",
    "for i in dept:\n",
    "    d = i.text\n",
    "    Departure.append(d)\n",
    "    \n",
    "len(Departure)"
   ]
  },
  {
   "cell_type": "code",
   "execution_count": 18,
   "id": "739b9035",
   "metadata": {},
   "outputs": [
    {
     "data": {
      "text/plain": [
       "214"
      ]
     },
     "execution_count": 18,
     "metadata": {},
     "output_type": "execute_result"
    }
   ],
   "source": [
    "Arrival = []\n",
    "\n",
    "arrvl = driver.find_elements_by_xpath('//span[@class=\"mv1WYe\"]/span[2]')\n",
    "for i in arrvl:\n",
    "    arr = i.text\n",
    "    Arrival.append(arr)\n",
    "    \n",
    "len(Arrival)"
   ]
  },
  {
   "cell_type": "code",
   "execution_count": 20,
   "id": "c10c9390",
   "metadata": {},
   "outputs": [
    {
     "data": {
      "text/plain": [
       "214"
      ]
     },
     "execution_count": 20,
     "metadata": {},
     "output_type": "execute_result"
    }
   ],
   "source": [
    "Source = []\n",
    "\n",
    "source = driver.find_elements_by_xpath('//span[@class=\"z0fuv sSHqwe tPgKwe ogfYpf\"]/span[1]')\n",
    "for i in source:\n",
    "    s = i.text\n",
    "    Source.append(s)\n",
    "    \n",
    "len(Source)"
   ]
  },
  {
   "cell_type": "code",
   "execution_count": 21,
   "id": "513e6099",
   "metadata": {},
   "outputs": [
    {
     "data": {
      "text/plain": [
       "214"
      ]
     },
     "execution_count": 21,
     "metadata": {},
     "output_type": "execute_result"
    }
   ],
   "source": [
    "Destination = []\n",
    "\n",
    "destin = driver.find_elements_by_xpath('//span[@class=\"z0fuv sSHqwe tPgKwe ogfYpf\"]/span[2]')\n",
    "for i in destin:\n",
    "    dest = i.text\n",
    "    Destination.append(dest)\n",
    "    \n",
    "len(Destination)"
   ]
  },
  {
   "cell_type": "code",
   "execution_count": 22,
   "id": "d93ebaf7",
   "metadata": {},
   "outputs": [
    {
     "data": {
      "text/plain": [
       "214"
      ]
     },
     "execution_count": 22,
     "metadata": {},
     "output_type": "execute_result"
    }
   ],
   "source": [
    "Duration = []\n",
    "\n",
    "duration = driver.find_elements_by_xpath('//div[@class=\"gvkrdb AdWm1c tPgKwe ogfYpf\"]')\n",
    "for i in duration:\n",
    "    dur = i.text\n",
    "    Duration.append(dur)\n",
    "    \n",
    "len(Duration)"
   ]
  },
  {
   "cell_type": "code",
   "execution_count": 24,
   "id": "5c335540",
   "metadata": {},
   "outputs": [
    {
     "data": {
      "text/plain": [
       "214"
      ]
     },
     "execution_count": 24,
     "metadata": {},
     "output_type": "execute_result"
    }
   ],
   "source": [
    "Total_stops = []\n",
    "\n",
    "stops = driver.find_elements_by_xpath('//span[@class=\"pIgMWd ogfYpf\"]')\n",
    "for i in stops:\n",
    "    stp = i.text\n",
    "    Total_stops.append(stp)\n",
    "    \n",
    "len(Total_stops)"
   ]
  },
  {
   "cell_type": "code",
   "execution_count": 25,
   "id": "d359c2e7",
   "metadata": {},
   "outputs": [
    {
     "data": {
      "text/plain": [
       "214"
      ]
     },
     "execution_count": 25,
     "metadata": {},
     "output_type": "execute_result"
    }
   ],
   "source": [
    "Price = []\n",
    "\n",
    "price = driver.find_elements_by_xpath('//div[@class=\"BVAVmf I11szd POX3ye\"]/div[2]/span')\n",
    "for i in price:\n",
    "    p = i.text.strip('₹')\n",
    "    Price.append(p)\n",
    "    \n",
    "len(Price)"
   ]
  },
  {
   "cell_type": "code",
   "execution_count": 26,
   "id": "1e1b4266",
   "metadata": {},
   "outputs": [
    {
     "data": {
      "text/plain": [
       "(1, ['Aug 28'])"
      ]
     },
     "execution_count": 26,
     "metadata": {},
     "output_type": "execute_result"
    }
   ],
   "source": [
    "Date = []\n",
    "\n",
    "date = driver.find_elements_by_xpath('//div[@class=\"ZmKdL MZvrH QB2Jof\"]')\n",
    "for i in date:\n",
    "    dt = i.text\n",
    "    Date.append(dt)\n",
    "len(Date),Date"
   ]
  },
  {
   "cell_type": "code",
   "execution_count": 27,
   "id": "6c4bb53a",
   "metadata": {},
   "outputs": [
    {
     "data": {
      "text/html": [
       "<div>\n",
       "<style scoped>\n",
       "    .dataframe tbody tr th:only-of-type {\n",
       "        vertical-align: middle;\n",
       "    }\n",
       "\n",
       "    .dataframe tbody tr th {\n",
       "        vertical-align: top;\n",
       "    }\n",
       "\n",
       "    .dataframe thead th {\n",
       "        text-align: right;\n",
       "    }\n",
       "</style>\n",
       "<table border=\"1\" class=\"dataframe\">\n",
       "  <thead>\n",
       "    <tr style=\"text-align: right;\">\n",
       "      <th></th>\n",
       "      <th>Airline</th>\n",
       "      <th>Source</th>\n",
       "      <th>Destination</th>\n",
       "      <th>Departure</th>\n",
       "      <th>Arrival</th>\n",
       "      <th>Duration</th>\n",
       "      <th>Total_stops</th>\n",
       "      <th>Price</th>\n",
       "    </tr>\n",
       "  </thead>\n",
       "  <tbody>\n",
       "    <tr>\n",
       "      <th>0</th>\n",
       "      <td>Vistara</td>\n",
       "      <td>BOM</td>\n",
       "      <td>CCU</td>\n",
       "      <td>5:20 PM</td>\n",
       "      <td>7:55 PM</td>\n",
       "      <td>2 hr 35 min</td>\n",
       "      <td>Nonstop</td>\n",
       "      <td>7,234</td>\n",
       "    </tr>\n",
       "    <tr>\n",
       "      <th>1</th>\n",
       "      <td>IndiGo</td>\n",
       "      <td>BOM</td>\n",
       "      <td>CCU</td>\n",
       "      <td>9:50 AM</td>\n",
       "      <td>12:25 PM</td>\n",
       "      <td>2 hr 35 min</td>\n",
       "      <td>Nonstop</td>\n",
       "      <td>7,373</td>\n",
       "    </tr>\n",
       "    <tr>\n",
       "      <th>2</th>\n",
       "      <td>Air India</td>\n",
       "      <td>BOM</td>\n",
       "      <td>CCU</td>\n",
       "      <td>6:00 AM</td>\n",
       "      <td>8:50 AM</td>\n",
       "      <td>2 hr 50 min</td>\n",
       "      <td>Nonstop</td>\n",
       "      <td>7,414</td>\n",
       "    </tr>\n",
       "    <tr>\n",
       "      <th>3</th>\n",
       "      <td>AirAsia (India)</td>\n",
       "      <td>BOM</td>\n",
       "      <td>CCU</td>\n",
       "      <td>12:25 PM</td>\n",
       "      <td>2:05 AM+1</td>\n",
       "      <td>13 hr 40 min</td>\n",
       "      <td>2 stops</td>\n",
       "      <td>6,873</td>\n",
       "    </tr>\n",
       "    <tr>\n",
       "      <th>4</th>\n",
       "      <td>Vistara</td>\n",
       "      <td>BOM</td>\n",
       "      <td>CCU</td>\n",
       "      <td>7:00 AM</td>\n",
       "      <td>9:40 AM</td>\n",
       "      <td>2 hr 40 min</td>\n",
       "      <td>Nonstop</td>\n",
       "      <td>7,234</td>\n",
       "    </tr>\n",
       "    <tr>\n",
       "      <th>...</th>\n",
       "      <td>...</td>\n",
       "      <td>...</td>\n",
       "      <td>...</td>\n",
       "      <td>...</td>\n",
       "      <td>...</td>\n",
       "      <td>...</td>\n",
       "      <td>...</td>\n",
       "      <td>...</td>\n",
       "    </tr>\n",
       "    <tr>\n",
       "      <th>209</th>\n",
       "      <td>Qatar Airways</td>\n",
       "      <td>BOM</td>\n",
       "      <td>CCU</td>\n",
       "      <td>4:25 AM</td>\n",
       "      <td>2:20 AM+1</td>\n",
       "      <td>21 hr 55 min</td>\n",
       "      <td>1 stop</td>\n",
       "      <td>92,196</td>\n",
       "    </tr>\n",
       "    <tr>\n",
       "      <th>210</th>\n",
       "      <td>Singapore Airlines, Biman</td>\n",
       "      <td>BOM</td>\n",
       "      <td>CCU</td>\n",
       "      <td>1:00 AM</td>\n",
       "      <td>7:45 PM</td>\n",
       "      <td>18 hr 45 min</td>\n",
       "      <td>2 stops</td>\n",
       "      <td>98,109</td>\n",
       "    </tr>\n",
       "    <tr>\n",
       "      <th>211</th>\n",
       "      <td>Etihad, Biman</td>\n",
       "      <td>BOM</td>\n",
       "      <td>CCU</td>\n",
       "      <td>4:35 AM</td>\n",
       "      <td>7:45 PM</td>\n",
       "      <td>15 hr 10 min</td>\n",
       "      <td>2 stops</td>\n",
       "      <td>133,259</td>\n",
       "    </tr>\n",
       "    <tr>\n",
       "      <th>212</th>\n",
       "      <td>Air Arabia, Etihad, Biman</td>\n",
       "      <td>BOM</td>\n",
       "      <td>CCU</td>\n",
       "      <td>6:35 AM</td>\n",
       "      <td>7:45 PM</td>\n",
       "      <td>13 hr 10 min</td>\n",
       "      <td>2 stops</td>\n",
       "      <td>197,540</td>\n",
       "    </tr>\n",
       "    <tr>\n",
       "      <th>213</th>\n",
       "      <td>Singapore Airlines, Biman</td>\n",
       "      <td>BOM</td>\n",
       "      <td>CCU</td>\n",
       "      <td>1:00 AM</td>\n",
       "      <td>7:45 PM</td>\n",
       "      <td>18 hr 45 min</td>\n",
       "      <td>2 stops</td>\n",
       "      <td>229,238</td>\n",
       "    </tr>\n",
       "  </tbody>\n",
       "</table>\n",
       "<p>214 rows × 8 columns</p>\n",
       "</div>"
      ],
      "text/plain": [
       "                       Airline Source Destination Departure    Arrival  \\\n",
       "0                      Vistara    BOM         CCU   5:20 PM    7:55 PM   \n",
       "1                       IndiGo    BOM         CCU   9:50 AM   12:25 PM   \n",
       "2                    Air India    BOM         CCU   6:00 AM    8:50 AM   \n",
       "3              AirAsia (India)    BOM         CCU  12:25 PM  2:05 AM+1   \n",
       "4                      Vistara    BOM         CCU   7:00 AM    9:40 AM   \n",
       "..                         ...    ...         ...       ...        ...   \n",
       "209              Qatar Airways    BOM         CCU   4:25 AM  2:20 AM+1   \n",
       "210  Singapore Airlines, Biman    BOM         CCU   1:00 AM    7:45 PM   \n",
       "211              Etihad, Biman    BOM         CCU   4:35 AM    7:45 PM   \n",
       "212  Air Arabia, Etihad, Biman    BOM         CCU   6:35 AM    7:45 PM   \n",
       "213  Singapore Airlines, Biman    BOM         CCU   1:00 AM    7:45 PM   \n",
       "\n",
       "         Duration Total_stops    Price  \n",
       "0     2 hr 35 min     Nonstop    7,234  \n",
       "1     2 hr 35 min     Nonstop    7,373  \n",
       "2     2 hr 50 min     Nonstop    7,414  \n",
       "3    13 hr 40 min     2 stops    6,873  \n",
       "4     2 hr 40 min     Nonstop    7,234  \n",
       "..            ...         ...      ...  \n",
       "209  21 hr 55 min      1 stop   92,196  \n",
       "210  18 hr 45 min     2 stops   98,109  \n",
       "211  15 hr 10 min     2 stops  133,259  \n",
       "212  13 hr 10 min     2 stops  197,540  \n",
       "213  18 hr 45 min     2 stops  229,238  \n",
       "\n",
       "[214 rows x 8 columns]"
      ]
     },
     "execution_count": 27,
     "metadata": {},
     "output_type": "execute_result"
    }
   ],
   "source": [
    "import pandas as pd\n",
    "\n",
    "MK = pd.DataFrame({})\n",
    "MK['Airline'] = Air\n",
    "MK['Source'] = Source\n",
    "MK['Destination'] = Destination\n",
    "MK['Departure'] = Departure\n",
    "MK['Arrival'] = Arrival\n",
    "MK['Duration'] = Duration\n",
    "MK['Total_stops'] = Total_stops\n",
    "MK['Price'] = Price\n",
    "\n",
    "MK"
   ]
  },
  {
   "cell_type": "code",
   "execution_count": 28,
   "id": "43b9a7e0",
   "metadata": {},
   "outputs": [],
   "source": [
    "MK.to_csv('mk.csv')"
   ]
  },
  {
   "cell_type": "markdown",
   "id": "dd04fbd4",
   "metadata": {},
   "source": [
    "##### Delhi to Goa"
   ]
  },
  {
   "cell_type": "code",
   "execution_count": 31,
   "id": "9eedc19c",
   "metadata": {},
   "outputs": [
    {
     "data": {
      "text/plain": [
       "241"
      ]
     },
     "execution_count": 31,
     "metadata": {},
     "output_type": "execute_result"
    }
   ],
   "source": [
    "Air = []\n",
    "\n",
    "arr = driver.find_elements_by_xpath('//div[@class=\"TQqf0e sSHqwe tPgKwe ogfYpf\"]/span')\n",
    "for i in arr:\n",
    "    a = i.text\n",
    "    Air.append(a)\n",
    "    \n",
    "len(Air)"
   ]
  },
  {
   "cell_type": "code",
   "execution_count": 32,
   "id": "fc21ef60",
   "metadata": {},
   "outputs": [
    {
     "data": {
      "text/plain": [
       "241"
      ]
     },
     "execution_count": 32,
     "metadata": {},
     "output_type": "execute_result"
    }
   ],
   "source": [
    "Departure = []\n",
    "\n",
    "dept = driver.find_elements_by_xpath('//span[@class=\"mv1WYe\"]/span[1]')\n",
    "for i in dept:\n",
    "    d = i.text\n",
    "    Departure.append(d)\n",
    "    \n",
    "len(Departure)"
   ]
  },
  {
   "cell_type": "code",
   "execution_count": 33,
   "id": "61d4d43b",
   "metadata": {},
   "outputs": [
    {
     "data": {
      "text/plain": [
       "241"
      ]
     },
     "execution_count": 33,
     "metadata": {},
     "output_type": "execute_result"
    }
   ],
   "source": [
    "Arrival = []\n",
    "\n",
    "arrvl = driver.find_elements_by_xpath('//span[@class=\"mv1WYe\"]/span[2]')\n",
    "for i in arrvl:\n",
    "    arr = i.text\n",
    "    Arrival.append(arr)\n",
    "    \n",
    "len(Arrival)"
   ]
  },
  {
   "cell_type": "code",
   "execution_count": 34,
   "id": "2b25aa6b",
   "metadata": {},
   "outputs": [
    {
     "data": {
      "text/plain": [
       "241"
      ]
     },
     "execution_count": 34,
     "metadata": {},
     "output_type": "execute_result"
    }
   ],
   "source": [
    "Source = []\n",
    "\n",
    "source = driver.find_elements_by_xpath('//span[@class=\"z0fuv sSHqwe tPgKwe ogfYpf\"]/span[1]')\n",
    "for i in source:\n",
    "    s = i.text\n",
    "    Source.append(s)\n",
    "    \n",
    "len(Source)"
   ]
  },
  {
   "cell_type": "code",
   "execution_count": 35,
   "id": "0664d440",
   "metadata": {},
   "outputs": [
    {
     "data": {
      "text/plain": [
       "241"
      ]
     },
     "execution_count": 35,
     "metadata": {},
     "output_type": "execute_result"
    }
   ],
   "source": [
    "Destination = []\n",
    "\n",
    "destin = driver.find_elements_by_xpath('//span[@class=\"z0fuv sSHqwe tPgKwe ogfYpf\"]/span[2]')\n",
    "for i in destin:\n",
    "    dest = i.text\n",
    "    Destination.append(dest)\n",
    "    \n",
    "len(Destination)"
   ]
  },
  {
   "cell_type": "code",
   "execution_count": 36,
   "id": "6d50cff0",
   "metadata": {},
   "outputs": [
    {
     "data": {
      "text/plain": [
       "241"
      ]
     },
     "execution_count": 36,
     "metadata": {},
     "output_type": "execute_result"
    }
   ],
   "source": [
    "Duration = []\n",
    "\n",
    "duration = driver.find_elements_by_xpath('//div[@class=\"gvkrdb AdWm1c tPgKwe ogfYpf\"]')\n",
    "for i in duration:\n",
    "    dur = i.text\n",
    "    Duration.append(dur)\n",
    "    \n",
    "len(Duration)"
   ]
  },
  {
   "cell_type": "code",
   "execution_count": 37,
   "id": "e871bf21",
   "metadata": {},
   "outputs": [
    {
     "data": {
      "text/plain": [
       "241"
      ]
     },
     "execution_count": 37,
     "metadata": {},
     "output_type": "execute_result"
    }
   ],
   "source": [
    "Total_stops = []\n",
    "\n",
    "stops = driver.find_elements_by_xpath('//span[@class=\"pIgMWd ogfYpf\"]')\n",
    "for i in stops:\n",
    "    stp = i.text\n",
    "    Total_stops.append(stp)\n",
    "    \n",
    "len(Total_stops)"
   ]
  },
  {
   "cell_type": "code",
   "execution_count": 38,
   "id": "24d0ffda",
   "metadata": {},
   "outputs": [
    {
     "data": {
      "text/plain": [
       "241"
      ]
     },
     "execution_count": 38,
     "metadata": {},
     "output_type": "execute_result"
    }
   ],
   "source": [
    "Price = []\n",
    "\n",
    "price = driver.find_elements_by_xpath('//div[@class=\"BVAVmf I11szd POX3ye\"]/div[2]/span')\n",
    "for i in price:\n",
    "    p = i.text.strip('₹')\n",
    "    Price.append(p)\n",
    "    \n",
    "len(Price)"
   ]
  },
  {
   "cell_type": "code",
   "execution_count": 39,
   "id": "b87bc5ba",
   "metadata": {},
   "outputs": [
    {
     "data": {
      "text/html": [
       "<div>\n",
       "<style scoped>\n",
       "    .dataframe tbody tr th:only-of-type {\n",
       "        vertical-align: middle;\n",
       "    }\n",
       "\n",
       "    .dataframe tbody tr th {\n",
       "        vertical-align: top;\n",
       "    }\n",
       "\n",
       "    .dataframe thead th {\n",
       "        text-align: right;\n",
       "    }\n",
       "</style>\n",
       "<table border=\"1\" class=\"dataframe\">\n",
       "  <thead>\n",
       "    <tr style=\"text-align: right;\">\n",
       "      <th></th>\n",
       "      <th>Airline</th>\n",
       "      <th>Source</th>\n",
       "      <th>Destination</th>\n",
       "      <th>Departure</th>\n",
       "      <th>Arrival</th>\n",
       "      <th>Duration</th>\n",
       "      <th>Total_stops</th>\n",
       "      <th>Price</th>\n",
       "    </tr>\n",
       "  </thead>\n",
       "  <tbody>\n",
       "    <tr>\n",
       "      <th>0</th>\n",
       "      <td>AirAsia (India)</td>\n",
       "      <td>DEL</td>\n",
       "      <td>GOI</td>\n",
       "      <td>9:35 AM</td>\n",
       "      <td>2:45 PM</td>\n",
       "      <td>5 hr 10 min</td>\n",
       "      <td>1 stop</td>\n",
       "      <td>6,566</td>\n",
       "    </tr>\n",
       "    <tr>\n",
       "      <th>1</th>\n",
       "      <td>Vistara</td>\n",
       "      <td>DEL</td>\n",
       "      <td>GOI</td>\n",
       "      <td>11:10 AM</td>\n",
       "      <td>1:50 PM</td>\n",
       "      <td>2 hr 40 min</td>\n",
       "      <td>Nonstop</td>\n",
       "      <td>7,246</td>\n",
       "    </tr>\n",
       "    <tr>\n",
       "      <th>2</th>\n",
       "      <td>Air India</td>\n",
       "      <td>DEL</td>\n",
       "      <td>GOI</td>\n",
       "      <td>10:45 AM</td>\n",
       "      <td>1:35 PM</td>\n",
       "      <td>2 hr 50 min</td>\n",
       "      <td>Nonstop</td>\n",
       "      <td>7,426</td>\n",
       "    </tr>\n",
       "    <tr>\n",
       "      <th>3</th>\n",
       "      <td>GO FIRST</td>\n",
       "      <td>DEL</td>\n",
       "      <td>GOI</td>\n",
       "      <td>5:50 AM</td>\n",
       "      <td>4:55 PM</td>\n",
       "      <td>11 hr 5 min</td>\n",
       "      <td>1 stop</td>\n",
       "      <td>6,542</td>\n",
       "    </tr>\n",
       "    <tr>\n",
       "      <th>4</th>\n",
       "      <td>GO FIRST</td>\n",
       "      <td>DEL</td>\n",
       "      <td>GOI</td>\n",
       "      <td>6:50 AM</td>\n",
       "      <td>4:45 PM</td>\n",
       "      <td>9 hr 55 min</td>\n",
       "      <td>1 stop</td>\n",
       "      <td>6,542</td>\n",
       "    </tr>\n",
       "    <tr>\n",
       "      <th>...</th>\n",
       "      <td>...</td>\n",
       "      <td>...</td>\n",
       "      <td>...</td>\n",
       "      <td>...</td>\n",
       "      <td>...</td>\n",
       "      <td>...</td>\n",
       "      <td>...</td>\n",
       "      <td>...</td>\n",
       "    </tr>\n",
       "    <tr>\n",
       "      <th>236</th>\n",
       "      <td>Air India</td>\n",
       "      <td>DEL</td>\n",
       "      <td>GOI</td>\n",
       "      <td>8:35 PM</td>\n",
       "      <td>3:50 AM+2</td>\n",
       "      <td>31 hr 15 min</td>\n",
       "      <td>1 stop</td>\n",
       "      <td>29,418</td>\n",
       "    </tr>\n",
       "    <tr>\n",
       "      <th>237</th>\n",
       "      <td>IndiGo, Qatar Airways</td>\n",
       "      <td>DEL</td>\n",
       "      <td>GOI</td>\n",
       "      <td>10:00 PM</td>\n",
       "      <td>2:30 AM+2</td>\n",
       "      <td>28 hr 30 min</td>\n",
       "      <td>1 stop</td>\n",
       "      <td>61,447</td>\n",
       "    </tr>\n",
       "    <tr>\n",
       "      <th>238</th>\n",
       "      <td>IndiGo, Qatar Airways</td>\n",
       "      <td>DEL</td>\n",
       "      <td>GOI</td>\n",
       "      <td>4:10 AM</td>\n",
       "      <td>2:30 AM+1</td>\n",
       "      <td>22 hr 20 min</td>\n",
       "      <td>1 stop</td>\n",
       "      <td>66,046</td>\n",
       "    </tr>\n",
       "    <tr>\n",
       "      <th>239</th>\n",
       "      <td>Qatar Airways</td>\n",
       "      <td>DEL</td>\n",
       "      <td>GOI</td>\n",
       "      <td>3:25 AM</td>\n",
       "      <td>2:30 AM+1</td>\n",
       "      <td>23 hr 5 min</td>\n",
       "      <td>1 stop</td>\n",
       "      <td>77,733</td>\n",
       "    </tr>\n",
       "    <tr>\n",
       "      <th>240</th>\n",
       "      <td>Qatar Airways</td>\n",
       "      <td>DEL</td>\n",
       "      <td>GOI</td>\n",
       "      <td>10:35 AM</td>\n",
       "      <td>2:30 AM+1</td>\n",
       "      <td>15 hr 55 min</td>\n",
       "      <td>1 stop</td>\n",
       "      <td>77,733</td>\n",
       "    </tr>\n",
       "  </tbody>\n",
       "</table>\n",
       "<p>241 rows × 8 columns</p>\n",
       "</div>"
      ],
      "text/plain": [
       "                   Airline Source Destination Departure    Arrival  \\\n",
       "0          AirAsia (India)    DEL         GOI   9:35 AM    2:45 PM   \n",
       "1                  Vistara    DEL         GOI  11:10 AM    1:50 PM   \n",
       "2                Air India    DEL         GOI  10:45 AM    1:35 PM   \n",
       "3                 GO FIRST    DEL         GOI   5:50 AM    4:55 PM   \n",
       "4                 GO FIRST    DEL         GOI   6:50 AM    4:45 PM   \n",
       "..                     ...    ...         ...       ...        ...   \n",
       "236              Air India    DEL         GOI   8:35 PM  3:50 AM+2   \n",
       "237  IndiGo, Qatar Airways    DEL         GOI  10:00 PM  2:30 AM+2   \n",
       "238  IndiGo, Qatar Airways    DEL         GOI   4:10 AM  2:30 AM+1   \n",
       "239          Qatar Airways    DEL         GOI   3:25 AM  2:30 AM+1   \n",
       "240          Qatar Airways    DEL         GOI  10:35 AM  2:30 AM+1   \n",
       "\n",
       "         Duration Total_stops   Price  \n",
       "0     5 hr 10 min      1 stop   6,566  \n",
       "1     2 hr 40 min     Nonstop   7,246  \n",
       "2     2 hr 50 min     Nonstop   7,426  \n",
       "3     11 hr 5 min      1 stop   6,542  \n",
       "4     9 hr 55 min      1 stop   6,542  \n",
       "..            ...         ...     ...  \n",
       "236  31 hr 15 min      1 stop  29,418  \n",
       "237  28 hr 30 min      1 stop  61,447  \n",
       "238  22 hr 20 min      1 stop  66,046  \n",
       "239   23 hr 5 min      1 stop  77,733  \n",
       "240  15 hr 55 min      1 stop  77,733  \n",
       "\n",
       "[241 rows x 8 columns]"
      ]
     },
     "execution_count": 39,
     "metadata": {},
     "output_type": "execute_result"
    }
   ],
   "source": [
    "DG = pd.DataFrame({})\n",
    "DG['Airline'] = Air\n",
    "DG['Source'] = Source\n",
    "DG['Destination'] = Destination\n",
    "DG['Departure'] = Departure\n",
    "DG['Arrival'] = Arrival\n",
    "DG['Duration'] = Duration\n",
    "DG['Total_stops'] = Total_stops\n",
    "DG['Price'] = Price\n",
    "\n",
    "DG"
   ]
  },
  {
   "cell_type": "code",
   "execution_count": 40,
   "id": "c5639212",
   "metadata": {},
   "outputs": [],
   "source": [
    "DG.to_csv('dg.csv')"
   ]
  },
  {
   "cell_type": "markdown",
   "id": "0624b7b4",
   "metadata": {},
   "source": [
    "### Pune to Banglore"
   ]
  },
  {
   "cell_type": "code",
   "execution_count": 43,
   "id": "433b8afa",
   "metadata": {},
   "outputs": [
    {
     "data": {
      "text/plain": [
       "200"
      ]
     },
     "execution_count": 43,
     "metadata": {},
     "output_type": "execute_result"
    }
   ],
   "source": [
    "Air = []\n",
    "\n",
    "arr = driver.find_elements_by_xpath('//div[@class=\"TQqf0e sSHqwe tPgKwe ogfYpf\"]/span')\n",
    "for i in arr:\n",
    "    a = i.text\n",
    "    Air.append(a)\n",
    "    \n",
    "len(Air)"
   ]
  },
  {
   "cell_type": "code",
   "execution_count": 44,
   "id": "0540e983",
   "metadata": {},
   "outputs": [
    {
     "data": {
      "text/plain": [
       "200"
      ]
     },
     "execution_count": 44,
     "metadata": {},
     "output_type": "execute_result"
    }
   ],
   "source": [
    "Departure = []\n",
    "\n",
    "dept = driver.find_elements_by_xpath('//span[@class=\"mv1WYe\"]/span[1]')\n",
    "for i in dept:\n",
    "    d = i.text\n",
    "    Departure.append(d)\n",
    "    \n",
    "len(Departure)"
   ]
  },
  {
   "cell_type": "code",
   "execution_count": 45,
   "id": "9afdc0ec",
   "metadata": {},
   "outputs": [
    {
     "data": {
      "text/plain": [
       "200"
      ]
     },
     "execution_count": 45,
     "metadata": {},
     "output_type": "execute_result"
    }
   ],
   "source": [
    "Arrival = []\n",
    "\n",
    "arrvl = driver.find_elements_by_xpath('//span[@class=\"mv1WYe\"]/span[2]')\n",
    "for i in arrvl:\n",
    "    arr = i.text\n",
    "    Arrival.append(arr)\n",
    "    \n",
    "len(Arrival)"
   ]
  },
  {
   "cell_type": "code",
   "execution_count": 46,
   "id": "44098ca8",
   "metadata": {},
   "outputs": [
    {
     "data": {
      "text/plain": [
       "200"
      ]
     },
     "execution_count": 46,
     "metadata": {},
     "output_type": "execute_result"
    }
   ],
   "source": [
    "Source = []\n",
    "\n",
    "source = driver.find_elements_by_xpath('//span[@class=\"z0fuv sSHqwe tPgKwe ogfYpf\"]/span[1]')\n",
    "for i in source:\n",
    "    s = i.text\n",
    "    Source.append(s)\n",
    "    \n",
    "len(Source)"
   ]
  },
  {
   "cell_type": "code",
   "execution_count": 47,
   "id": "ac03b330",
   "metadata": {},
   "outputs": [
    {
     "data": {
      "text/plain": [
       "200"
      ]
     },
     "execution_count": 47,
     "metadata": {},
     "output_type": "execute_result"
    }
   ],
   "source": [
    "Destination = []\n",
    "\n",
    "destin = driver.find_elements_by_xpath('//span[@class=\"z0fuv sSHqwe tPgKwe ogfYpf\"]/span[2]')\n",
    "for i in destin:\n",
    "    dest = i.text\n",
    "    Destination.append(dest)\n",
    "    \n",
    "len(Destination)"
   ]
  },
  {
   "cell_type": "code",
   "execution_count": 48,
   "id": "22dac6bc",
   "metadata": {},
   "outputs": [
    {
     "data": {
      "text/plain": [
       "200"
      ]
     },
     "execution_count": 48,
     "metadata": {},
     "output_type": "execute_result"
    }
   ],
   "source": [
    "Duration = []\n",
    "\n",
    "duration = driver.find_elements_by_xpath('//div[@class=\"gvkrdb AdWm1c tPgKwe ogfYpf\"]')\n",
    "for i in duration:\n",
    "    dur = i.text\n",
    "    Duration.append(dur)\n",
    "    \n",
    "len(Duration)"
   ]
  },
  {
   "cell_type": "code",
   "execution_count": 49,
   "id": "94ce668a",
   "metadata": {},
   "outputs": [
    {
     "data": {
      "text/plain": [
       "200"
      ]
     },
     "execution_count": 49,
     "metadata": {},
     "output_type": "execute_result"
    }
   ],
   "source": [
    "Total_stops = []\n",
    "\n",
    "stops = driver.find_elements_by_xpath('//span[@class=\"pIgMWd ogfYpf\"]')\n",
    "for i in stops:\n",
    "    stp = i.text\n",
    "    Total_stops.append(stp)\n",
    "    \n",
    "len(Total_stops)"
   ]
  },
  {
   "cell_type": "code",
   "execution_count": 50,
   "id": "60fabb81",
   "metadata": {},
   "outputs": [
    {
     "data": {
      "text/plain": [
       "200"
      ]
     },
     "execution_count": 50,
     "metadata": {},
     "output_type": "execute_result"
    }
   ],
   "source": [
    "Price = []\n",
    "\n",
    "price = driver.find_elements_by_xpath('//div[@class=\"BVAVmf I11szd POX3ye\"]/div[2]/span')\n",
    "for i in price:\n",
    "    p = i.text.strip('₹')\n",
    "    Price.append(p)\n",
    "    \n",
    "len(Price)"
   ]
  },
  {
   "cell_type": "code",
   "execution_count": 51,
   "id": "d2e6a4b4",
   "metadata": {},
   "outputs": [
    {
     "data": {
      "text/html": [
       "<div>\n",
       "<style scoped>\n",
       "    .dataframe tbody tr th:only-of-type {\n",
       "        vertical-align: middle;\n",
       "    }\n",
       "\n",
       "    .dataframe tbody tr th {\n",
       "        vertical-align: top;\n",
       "    }\n",
       "\n",
       "    .dataframe thead th {\n",
       "        text-align: right;\n",
       "    }\n",
       "</style>\n",
       "<table border=\"1\" class=\"dataframe\">\n",
       "  <thead>\n",
       "    <tr style=\"text-align: right;\">\n",
       "      <th></th>\n",
       "      <th>Airline</th>\n",
       "      <th>Source</th>\n",
       "      <th>Destination</th>\n",
       "      <th>Departure</th>\n",
       "      <th>Arrival</th>\n",
       "      <th>Duration</th>\n",
       "      <th>Total_stops</th>\n",
       "      <th>Price</th>\n",
       "    </tr>\n",
       "  </thead>\n",
       "  <tbody>\n",
       "    <tr>\n",
       "      <th>0</th>\n",
       "      <td>GO FIRST</td>\n",
       "      <td>PNQ</td>\n",
       "      <td>BLR</td>\n",
       "      <td>5:30 PM</td>\n",
       "      <td>7:05 PM</td>\n",
       "      <td>1 hr 35 min</td>\n",
       "      <td>Nonstop</td>\n",
       "      <td>5,377</td>\n",
       "    </tr>\n",
       "    <tr>\n",
       "      <th>1</th>\n",
       "      <td>IndiGo</td>\n",
       "      <td>PNQ</td>\n",
       "      <td>BLR</td>\n",
       "      <td>1:00 PM</td>\n",
       "      <td>2:25 PM</td>\n",
       "      <td>1 hr 25 min</td>\n",
       "      <td>Nonstop</td>\n",
       "      <td>5,378</td>\n",
       "    </tr>\n",
       "    <tr>\n",
       "      <th>2</th>\n",
       "      <td>Vistara</td>\n",
       "      <td>PNQ</td>\n",
       "      <td>BLR</td>\n",
       "      <td>6:55 AM</td>\n",
       "      <td>8:30 AM</td>\n",
       "      <td>1 hr 35 min</td>\n",
       "      <td>Nonstop</td>\n",
       "      <td>5,764</td>\n",
       "    </tr>\n",
       "    <tr>\n",
       "      <th>3</th>\n",
       "      <td>SpiceJet</td>\n",
       "      <td>PNQ</td>\n",
       "      <td>BLR</td>\n",
       "      <td>3:15 PM</td>\n",
       "      <td>4:50 PM</td>\n",
       "      <td>1 hr 35 min</td>\n",
       "      <td>Nonstop</td>\n",
       "      <td>5,792</td>\n",
       "    </tr>\n",
       "    <tr>\n",
       "      <th>4</th>\n",
       "      <td>GO FIRST</td>\n",
       "      <td>PNQ</td>\n",
       "      <td>BLR</td>\n",
       "      <td>1:30 AM</td>\n",
       "      <td>3:55 AM</td>\n",
       "      <td>2 hr 25 min</td>\n",
       "      <td>Nonstop</td>\n",
       "      <td>5,377</td>\n",
       "    </tr>\n",
       "    <tr>\n",
       "      <th>...</th>\n",
       "      <td>...</td>\n",
       "      <td>...</td>\n",
       "      <td>...</td>\n",
       "      <td>...</td>\n",
       "      <td>...</td>\n",
       "      <td>...</td>\n",
       "      <td>...</td>\n",
       "      <td>...</td>\n",
       "    </tr>\n",
       "    <tr>\n",
       "      <th>195</th>\n",
       "      <td>Vistara</td>\n",
       "      <td>PNQ</td>\n",
       "      <td>BLR</td>\n",
       "      <td>5:30 AM</td>\n",
       "      <td>4:20 PM</td>\n",
       "      <td>10 hr 50 min</td>\n",
       "      <td>2 stops</td>\n",
       "      <td>22,086</td>\n",
       "    </tr>\n",
       "    <tr>\n",
       "      <th>196</th>\n",
       "      <td>Vistara</td>\n",
       "      <td>PNQ</td>\n",
       "      <td>BLR</td>\n",
       "      <td>8:35 PM</td>\n",
       "      <td>4:20 PM+1</td>\n",
       "      <td>19 hr 45 min</td>\n",
       "      <td>2 stops</td>\n",
       "      <td>22,086</td>\n",
       "    </tr>\n",
       "    <tr>\n",
       "      <th>197</th>\n",
       "      <td>Air India, SriLankan</td>\n",
       "      <td>PNQ</td>\n",
       "      <td>BLR</td>\n",
       "      <td>7:30 AM</td>\n",
       "      <td>2:30 AM+1</td>\n",
       "      <td>19 hr</td>\n",
       "      <td>2 stops</td>\n",
       "      <td>50,040</td>\n",
       "    </tr>\n",
       "    <tr>\n",
       "      <th>198</th>\n",
       "      <td>Air India, SriLankan</td>\n",
       "      <td>PNQ</td>\n",
       "      <td>BLR</td>\n",
       "      <td>3:55 PM</td>\n",
       "      <td>8:10 PM+1</td>\n",
       "      <td>28 hr 15 min</td>\n",
       "      <td>2 stops</td>\n",
       "      <td>50,040</td>\n",
       "    </tr>\n",
       "    <tr>\n",
       "      <th>199</th>\n",
       "      <td>Air India, SriLankan</td>\n",
       "      <td>PNQ</td>\n",
       "      <td>BLR</td>\n",
       "      <td>6:50 PM</td>\n",
       "      <td>8:10 PM+1</td>\n",
       "      <td>25 hr 20 min</td>\n",
       "      <td>2 stops</td>\n",
       "      <td>50,040</td>\n",
       "    </tr>\n",
       "  </tbody>\n",
       "</table>\n",
       "<p>200 rows × 8 columns</p>\n",
       "</div>"
      ],
      "text/plain": [
       "                  Airline Source Destination Departure    Arrival  \\\n",
       "0                GO FIRST    PNQ         BLR   5:30 PM    7:05 PM   \n",
       "1                  IndiGo    PNQ         BLR   1:00 PM    2:25 PM   \n",
       "2                 Vistara    PNQ         BLR   6:55 AM    8:30 AM   \n",
       "3                SpiceJet    PNQ         BLR   3:15 PM    4:50 PM   \n",
       "4                GO FIRST    PNQ         BLR   1:30 AM    3:55 AM   \n",
       "..                    ...    ...         ...       ...        ...   \n",
       "195               Vistara    PNQ         BLR   5:30 AM    4:20 PM   \n",
       "196               Vistara    PNQ         BLR   8:35 PM  4:20 PM+1   \n",
       "197  Air India, SriLankan    PNQ         BLR   7:30 AM  2:30 AM+1   \n",
       "198  Air India, SriLankan    PNQ         BLR   3:55 PM  8:10 PM+1   \n",
       "199  Air India, SriLankan    PNQ         BLR   6:50 PM  8:10 PM+1   \n",
       "\n",
       "         Duration Total_stops   Price  \n",
       "0     1 hr 35 min     Nonstop   5,377  \n",
       "1     1 hr 25 min     Nonstop   5,378  \n",
       "2     1 hr 35 min     Nonstop   5,764  \n",
       "3     1 hr 35 min     Nonstop   5,792  \n",
       "4     2 hr 25 min     Nonstop   5,377  \n",
       "..            ...         ...     ...  \n",
       "195  10 hr 50 min     2 stops  22,086  \n",
       "196  19 hr 45 min     2 stops  22,086  \n",
       "197         19 hr     2 stops  50,040  \n",
       "198  28 hr 15 min     2 stops  50,040  \n",
       "199  25 hr 20 min     2 stops  50,040  \n",
       "\n",
       "[200 rows x 8 columns]"
      ]
     },
     "execution_count": 51,
     "metadata": {},
     "output_type": "execute_result"
    }
   ],
   "source": [
    "PB = pd.DataFrame({})\n",
    "PB['Airline'] = Air\n",
    "PB['Source'] = Source\n",
    "PB['Destination'] = Destination\n",
    "PB['Departure'] = Departure\n",
    "PB['Arrival'] = Arrival\n",
    "PB['Duration'] = Duration\n",
    "PB['Total_stops'] = Total_stops\n",
    "PB['Price'] = Price\n",
    "\n",
    "PB"
   ]
  },
  {
   "cell_type": "code",
   "execution_count": 52,
   "id": "30efefda",
   "metadata": {},
   "outputs": [],
   "source": [
    "PB.to_csv('pb.csv')"
   ]
  },
  {
   "cell_type": "markdown",
   "id": "261974b0",
   "metadata": {},
   "source": [
    "### Chandigarh to Mumbai"
   ]
  },
  {
   "cell_type": "code",
   "execution_count": 53,
   "id": "5e4264d5",
   "metadata": {},
   "outputs": [
    {
     "data": {
      "text/plain": [
       "163"
      ]
     },
     "execution_count": 53,
     "metadata": {},
     "output_type": "execute_result"
    }
   ],
   "source": [
    "Air = []\n",
    "\n",
    "arr = driver.find_elements_by_xpath('//div[@class=\"TQqf0e sSHqwe tPgKwe ogfYpf\"]/span')\n",
    "for i in arr:\n",
    "    a = i.text\n",
    "    Air.append(a)\n",
    "    \n",
    "len(Air)"
   ]
  },
  {
   "cell_type": "code",
   "execution_count": 54,
   "id": "feddcc4c",
   "metadata": {},
   "outputs": [
    {
     "data": {
      "text/plain": [
       "163"
      ]
     },
     "execution_count": 54,
     "metadata": {},
     "output_type": "execute_result"
    }
   ],
   "source": [
    "Departure = []\n",
    "\n",
    "dept = driver.find_elements_by_xpath('//span[@class=\"mv1WYe\"]/span[1]')\n",
    "for i in dept:\n",
    "    d = i.text\n",
    "    Departure.append(d)\n",
    "    \n",
    "len(Departure)"
   ]
  },
  {
   "cell_type": "code",
   "execution_count": 55,
   "id": "5380ff06",
   "metadata": {},
   "outputs": [
    {
     "data": {
      "text/plain": [
       "163"
      ]
     },
     "execution_count": 55,
     "metadata": {},
     "output_type": "execute_result"
    }
   ],
   "source": [
    "Arrival = []\n",
    "\n",
    "arrvl = driver.find_elements_by_xpath('//span[@class=\"mv1WYe\"]/span[2]')\n",
    "for i in arrvl:\n",
    "    arr = i.text\n",
    "    Arrival.append(arr)\n",
    "    \n",
    "len(Arrival)"
   ]
  },
  {
   "cell_type": "code",
   "execution_count": 56,
   "id": "2d448ebb",
   "metadata": {},
   "outputs": [
    {
     "data": {
      "text/plain": [
       "163"
      ]
     },
     "execution_count": 56,
     "metadata": {},
     "output_type": "execute_result"
    }
   ],
   "source": [
    "Source = []\n",
    "\n",
    "source = driver.find_elements_by_xpath('//span[@class=\"z0fuv sSHqwe tPgKwe ogfYpf\"]/span[1]')\n",
    "for i in source:\n",
    "    s = i.text\n",
    "    Source.append(s)\n",
    "    \n",
    "len(Source)"
   ]
  },
  {
   "cell_type": "code",
   "execution_count": 57,
   "id": "560922cd",
   "metadata": {},
   "outputs": [
    {
     "data": {
      "text/plain": [
       "163"
      ]
     },
     "execution_count": 57,
     "metadata": {},
     "output_type": "execute_result"
    }
   ],
   "source": [
    "Destination = []\n",
    "\n",
    "destin = driver.find_elements_by_xpath('//span[@class=\"z0fuv sSHqwe tPgKwe ogfYpf\"]/span[2]')\n",
    "for i in destin:\n",
    "    dest = i.text\n",
    "    Destination.append(dest)\n",
    "    \n",
    "len(Destination)"
   ]
  },
  {
   "cell_type": "code",
   "execution_count": 58,
   "id": "8399d609",
   "metadata": {},
   "outputs": [
    {
     "data": {
      "text/plain": [
       "163"
      ]
     },
     "execution_count": 58,
     "metadata": {},
     "output_type": "execute_result"
    }
   ],
   "source": [
    "Duration = []\n",
    "\n",
    "duration = driver.find_elements_by_xpath('//div[@class=\"gvkrdb AdWm1c tPgKwe ogfYpf\"]')\n",
    "for i in duration:\n",
    "    dur = i.text\n",
    "    Duration.append(dur)\n",
    "    \n",
    "len(Duration)"
   ]
  },
  {
   "cell_type": "code",
   "execution_count": 59,
   "id": "a46ffedc",
   "metadata": {},
   "outputs": [
    {
     "data": {
      "text/plain": [
       "163"
      ]
     },
     "execution_count": 59,
     "metadata": {},
     "output_type": "execute_result"
    }
   ],
   "source": [
    "Total_stops = []\n",
    "\n",
    "stops = driver.find_elements_by_xpath('//span[@class=\"pIgMWd ogfYpf\"]')\n",
    "for i in stops:\n",
    "    stp = i.text\n",
    "    Total_stops.append(stp)\n",
    "    \n",
    "len(Total_stops)"
   ]
  },
  {
   "cell_type": "code",
   "execution_count": 60,
   "id": "fdb5557c",
   "metadata": {},
   "outputs": [
    {
     "data": {
      "text/plain": [
       "163"
      ]
     },
     "execution_count": 60,
     "metadata": {},
     "output_type": "execute_result"
    }
   ],
   "source": [
    "Price = []\n",
    "\n",
    "price = driver.find_elements_by_xpath('//div[@class=\"BVAVmf I11szd POX3ye\"]/div[2]/span')\n",
    "for i in price:\n",
    "    p = i.text.strip('₹')\n",
    "    Price.append(p)\n",
    "    \n",
    "len(Price)"
   ]
  },
  {
   "cell_type": "code",
   "execution_count": 61,
   "id": "36c25802",
   "metadata": {},
   "outputs": [
    {
     "data": {
      "text/html": [
       "<div>\n",
       "<style scoped>\n",
       "    .dataframe tbody tr th:only-of-type {\n",
       "        vertical-align: middle;\n",
       "    }\n",
       "\n",
       "    .dataframe tbody tr th {\n",
       "        vertical-align: top;\n",
       "    }\n",
       "\n",
       "    .dataframe thead th {\n",
       "        text-align: right;\n",
       "    }\n",
       "</style>\n",
       "<table border=\"1\" class=\"dataframe\">\n",
       "  <thead>\n",
       "    <tr style=\"text-align: right;\">\n",
       "      <th></th>\n",
       "      <th>Airline</th>\n",
       "      <th>Source</th>\n",
       "      <th>Destination</th>\n",
       "      <th>Departure</th>\n",
       "      <th>Arrival</th>\n",
       "      <th>Duration</th>\n",
       "      <th>Total_stops</th>\n",
       "      <th>Price</th>\n",
       "    </tr>\n",
       "  </thead>\n",
       "  <tbody>\n",
       "    <tr>\n",
       "      <th>0</th>\n",
       "      <td>GO FIRST</td>\n",
       "      <td>IXC</td>\n",
       "      <td>BOM</td>\n",
       "      <td>7:50 AM</td>\n",
       "      <td>10:20 AM</td>\n",
       "      <td>2 hr 30 min</td>\n",
       "      <td>Nonstop</td>\n",
       "      <td>6,616</td>\n",
       "    </tr>\n",
       "    <tr>\n",
       "      <th>1</th>\n",
       "      <td>Vistara</td>\n",
       "      <td>IXC</td>\n",
       "      <td>BOM</td>\n",
       "      <td>8:50 AM</td>\n",
       "      <td>11:15 AM</td>\n",
       "      <td>2 hr 25 min</td>\n",
       "      <td>Nonstop</td>\n",
       "      <td>7,160</td>\n",
       "    </tr>\n",
       "    <tr>\n",
       "      <th>2</th>\n",
       "      <td>Vistara</td>\n",
       "      <td>IXC</td>\n",
       "      <td>BOM</td>\n",
       "      <td>7:55 PM</td>\n",
       "      <td>10:20 PM</td>\n",
       "      <td>2 hr 25 min</td>\n",
       "      <td>Nonstop</td>\n",
       "      <td>7,160</td>\n",
       "    </tr>\n",
       "    <tr>\n",
       "      <th>3</th>\n",
       "      <td>Vistara</td>\n",
       "      <td>IXC</td>\n",
       "      <td>BOM</td>\n",
       "      <td>3:25 PM</td>\n",
       "      <td>8:05 PM</td>\n",
       "      <td>4 hr 40 min</td>\n",
       "      <td>1 stop</td>\n",
       "      <td>7,616</td>\n",
       "    </tr>\n",
       "    <tr>\n",
       "      <th>4</th>\n",
       "      <td>Vistara</td>\n",
       "      <td>IXC</td>\n",
       "      <td>BOM</td>\n",
       "      <td>3:25 PM</td>\n",
       "      <td>9:15 PM</td>\n",
       "      <td>5 hr 50 min</td>\n",
       "      <td>1 stop</td>\n",
       "      <td>7,616</td>\n",
       "    </tr>\n",
       "    <tr>\n",
       "      <th>...</th>\n",
       "      <td>...</td>\n",
       "      <td>...</td>\n",
       "      <td>...</td>\n",
       "      <td>...</td>\n",
       "      <td>...</td>\n",
       "      <td>...</td>\n",
       "      <td>...</td>\n",
       "      <td>...</td>\n",
       "    </tr>\n",
       "    <tr>\n",
       "      <th>158</th>\n",
       "      <td>IndiGo</td>\n",
       "      <td>IXC</td>\n",
       "      <td>BOM</td>\n",
       "      <td>7:40 PM</td>\n",
       "      <td>7:05 AM+1</td>\n",
       "      <td>11 hr 25 min</td>\n",
       "      <td>1 stop</td>\n",
       "      <td>19,480</td>\n",
       "    </tr>\n",
       "    <tr>\n",
       "      <th>159</th>\n",
       "      <td>IndiGo</td>\n",
       "      <td>IXC</td>\n",
       "      <td>BOM</td>\n",
       "      <td>7:40 PM</td>\n",
       "      <td>8:45 AM+1</td>\n",
       "      <td>13 hr 5 min</td>\n",
       "      <td>1 stop</td>\n",
       "      <td>19,480</td>\n",
       "    </tr>\n",
       "    <tr>\n",
       "      <th>160</th>\n",
       "      <td>Vistara</td>\n",
       "      <td>IXC</td>\n",
       "      <td>BOM</td>\n",
       "      <td>3:00 PM</td>\n",
       "      <td>7:55 AM+1</td>\n",
       "      <td>16 hr 55 min</td>\n",
       "      <td>2 stops</td>\n",
       "      <td>19,703</td>\n",
       "    </tr>\n",
       "    <tr>\n",
       "      <th>161</th>\n",
       "      <td>Vistara</td>\n",
       "      <td>IXC</td>\n",
       "      <td>BOM</td>\n",
       "      <td>3:10 PM</td>\n",
       "      <td>7:55 AM+1</td>\n",
       "      <td>16 hr 45 min</td>\n",
       "      <td>2 stops</td>\n",
       "      <td>23,026</td>\n",
       "    </tr>\n",
       "    <tr>\n",
       "      <th>162</th>\n",
       "      <td>Vistara</td>\n",
       "      <td>IXC</td>\n",
       "      <td>BOM</td>\n",
       "      <td>3:10 PM</td>\n",
       "      <td>7:55 AM+1</td>\n",
       "      <td>16 hr 45 min</td>\n",
       "      <td>2 stops</td>\n",
       "      <td>23,026</td>\n",
       "    </tr>\n",
       "  </tbody>\n",
       "</table>\n",
       "<p>163 rows × 8 columns</p>\n",
       "</div>"
      ],
      "text/plain": [
       "      Airline Source Destination Departure    Arrival      Duration  \\\n",
       "0    GO FIRST    IXC         BOM   7:50 AM   10:20 AM   2 hr 30 min   \n",
       "1     Vistara    IXC         BOM   8:50 AM   11:15 AM   2 hr 25 min   \n",
       "2     Vistara    IXC         BOM   7:55 PM   10:20 PM   2 hr 25 min   \n",
       "3     Vistara    IXC         BOM   3:25 PM    8:05 PM   4 hr 40 min   \n",
       "4     Vistara    IXC         BOM   3:25 PM    9:15 PM   5 hr 50 min   \n",
       "..        ...    ...         ...       ...        ...           ...   \n",
       "158    IndiGo    IXC         BOM   7:40 PM  7:05 AM+1  11 hr 25 min   \n",
       "159    IndiGo    IXC         BOM   7:40 PM  8:45 AM+1   13 hr 5 min   \n",
       "160   Vistara    IXC         BOM   3:00 PM  7:55 AM+1  16 hr 55 min   \n",
       "161   Vistara    IXC         BOM   3:10 PM  7:55 AM+1  16 hr 45 min   \n",
       "162   Vistara    IXC         BOM   3:10 PM  7:55 AM+1  16 hr 45 min   \n",
       "\n",
       "    Total_stops   Price  \n",
       "0       Nonstop   6,616  \n",
       "1       Nonstop   7,160  \n",
       "2       Nonstop   7,160  \n",
       "3        1 stop   7,616  \n",
       "4        1 stop   7,616  \n",
       "..          ...     ...  \n",
       "158      1 stop  19,480  \n",
       "159      1 stop  19,480  \n",
       "160     2 stops  19,703  \n",
       "161     2 stops  23,026  \n",
       "162     2 stops  23,026  \n",
       "\n",
       "[163 rows x 8 columns]"
      ]
     },
     "execution_count": 61,
     "metadata": {},
     "output_type": "execute_result"
    }
   ],
   "source": [
    "CM = pd.DataFrame({})\n",
    "CM['Airline'] = Air\n",
    "CM['Source'] = Source\n",
    "CM['Destination'] = Destination\n",
    "CM['Departure'] = Departure\n",
    "CM['Arrival'] = Arrival\n",
    "CM['Duration'] = Duration\n",
    "CM['Total_stops'] = Total_stops\n",
    "CM['Price'] = Price\n",
    "\n",
    "CM"
   ]
  },
  {
   "cell_type": "code",
   "execution_count": 62,
   "id": "af2fefe5",
   "metadata": {},
   "outputs": [],
   "source": [
    "CM.to_csv('cm.csv')"
   ]
  },
  {
   "cell_type": "markdown",
   "id": "f81d6db0",
   "metadata": {},
   "source": [
    "### Goa to Jaipur"
   ]
  },
  {
   "cell_type": "code",
   "execution_count": 63,
   "id": "5beeac67",
   "metadata": {},
   "outputs": [
    {
     "data": {
      "text/plain": [
       "112"
      ]
     },
     "execution_count": 63,
     "metadata": {},
     "output_type": "execute_result"
    }
   ],
   "source": [
    "Air = []\n",
    "\n",
    "arr = driver.find_elements_by_xpath('//div[@class=\"TQqf0e sSHqwe tPgKwe ogfYpf\"]/span')\n",
    "for i in arr:\n",
    "    a = i.text\n",
    "    Air.append(a)\n",
    "    \n",
    "len(Air)"
   ]
  },
  {
   "cell_type": "code",
   "execution_count": 64,
   "id": "838bf9d4",
   "metadata": {},
   "outputs": [
    {
     "data": {
      "text/plain": [
       "112"
      ]
     },
     "execution_count": 64,
     "metadata": {},
     "output_type": "execute_result"
    }
   ],
   "source": [
    "Departure = []\n",
    "\n",
    "dept = driver.find_elements_by_xpath('//span[@class=\"mv1WYe\"]/span[1]')\n",
    "for i in dept:\n",
    "    d = i.text\n",
    "    Departure.append(d)\n",
    "    \n",
    "len(Departure)"
   ]
  },
  {
   "cell_type": "code",
   "execution_count": 65,
   "id": "108065b1",
   "metadata": {},
   "outputs": [
    {
     "data": {
      "text/plain": [
       "112"
      ]
     },
     "execution_count": 65,
     "metadata": {},
     "output_type": "execute_result"
    }
   ],
   "source": [
    "Arrival = []\n",
    "\n",
    "arrvl = driver.find_elements_by_xpath('//span[@class=\"mv1WYe\"]/span[2]')\n",
    "for i in arrvl:\n",
    "    arr = i.text\n",
    "    Arrival.append(arr)\n",
    "    \n",
    "len(Arrival)"
   ]
  },
  {
   "cell_type": "code",
   "execution_count": 66,
   "id": "bd9781a6",
   "metadata": {},
   "outputs": [
    {
     "data": {
      "text/plain": [
       "112"
      ]
     },
     "execution_count": 66,
     "metadata": {},
     "output_type": "execute_result"
    }
   ],
   "source": [
    "Source = []\n",
    "\n",
    "source = driver.find_elements_by_xpath('//span[@class=\"z0fuv sSHqwe tPgKwe ogfYpf\"]/span[1]')\n",
    "for i in source:\n",
    "    s = i.text\n",
    "    Source.append(s)\n",
    "    \n",
    "len(Source)"
   ]
  },
  {
   "cell_type": "code",
   "execution_count": 67,
   "id": "c44cfea4",
   "metadata": {},
   "outputs": [
    {
     "data": {
      "text/plain": [
       "112"
      ]
     },
     "execution_count": 67,
     "metadata": {},
     "output_type": "execute_result"
    }
   ],
   "source": [
    "Destination = []\n",
    "\n",
    "destin = driver.find_elements_by_xpath('//span[@class=\"z0fuv sSHqwe tPgKwe ogfYpf\"]/span[2]')\n",
    "for i in destin:\n",
    "    dest = i.text\n",
    "    Destination.append(dest)\n",
    "    \n",
    "len(Destination)"
   ]
  },
  {
   "cell_type": "code",
   "execution_count": 68,
   "id": "e8a521ab",
   "metadata": {},
   "outputs": [
    {
     "data": {
      "text/plain": [
       "112"
      ]
     },
     "execution_count": 68,
     "metadata": {},
     "output_type": "execute_result"
    }
   ],
   "source": [
    "Duration = []\n",
    "\n",
    "duration = driver.find_elements_by_xpath('//div[@class=\"gvkrdb AdWm1c tPgKwe ogfYpf\"]')\n",
    "for i in duration:\n",
    "    dur = i.text\n",
    "    Duration.append(dur)\n",
    "    \n",
    "len(Duration)"
   ]
  },
  {
   "cell_type": "code",
   "execution_count": 69,
   "id": "8ee5930d",
   "metadata": {},
   "outputs": [
    {
     "data": {
      "text/plain": [
       "112"
      ]
     },
     "execution_count": 69,
     "metadata": {},
     "output_type": "execute_result"
    }
   ],
   "source": [
    "Total_stops = []\n",
    "\n",
    "stops = driver.find_elements_by_xpath('//span[@class=\"pIgMWd ogfYpf\"]')\n",
    "for i in stops:\n",
    "    stp = i.text\n",
    "    Total_stops.append(stp)\n",
    "    \n",
    "len(Total_stops)"
   ]
  },
  {
   "cell_type": "code",
   "execution_count": 70,
   "id": "a4aa65c4",
   "metadata": {},
   "outputs": [
    {
     "data": {
      "text/plain": [
       "112"
      ]
     },
     "execution_count": 70,
     "metadata": {},
     "output_type": "execute_result"
    }
   ],
   "source": [
    "Price = []\n",
    "\n",
    "price = driver.find_elements_by_xpath('//div[@class=\"BVAVmf I11szd POX3ye\"]/div[2]/span')\n",
    "for i in price:\n",
    "    p = i.text.strip('₹')\n",
    "    Price.append(p)\n",
    "    \n",
    "len(Price)"
   ]
  },
  {
   "cell_type": "code",
   "execution_count": 71,
   "id": "da2c8bbe",
   "metadata": {},
   "outputs": [
    {
     "data": {
      "text/html": [
       "<div>\n",
       "<style scoped>\n",
       "    .dataframe tbody tr th:only-of-type {\n",
       "        vertical-align: middle;\n",
       "    }\n",
       "\n",
       "    .dataframe tbody tr th {\n",
       "        vertical-align: top;\n",
       "    }\n",
       "\n",
       "    .dataframe thead th {\n",
       "        text-align: right;\n",
       "    }\n",
       "</style>\n",
       "<table border=\"1\" class=\"dataframe\">\n",
       "  <thead>\n",
       "    <tr style=\"text-align: right;\">\n",
       "      <th></th>\n",
       "      <th>Airline</th>\n",
       "      <th>Source</th>\n",
       "      <th>Destination</th>\n",
       "      <th>Departure</th>\n",
       "      <th>Arrival</th>\n",
       "      <th>Duration</th>\n",
       "      <th>Total_stops</th>\n",
       "      <th>Price</th>\n",
       "    </tr>\n",
       "  </thead>\n",
       "  <tbody>\n",
       "    <tr>\n",
       "      <th>0</th>\n",
       "      <td>IndiGo</td>\n",
       "      <td>GOI</td>\n",
       "      <td>JAI</td>\n",
       "      <td>3:25 AM</td>\n",
       "      <td>5:30 AM</td>\n",
       "      <td>2 hr 5 min</td>\n",
       "      <td>Nonstop</td>\n",
       "      <td>4,052</td>\n",
       "    </tr>\n",
       "    <tr>\n",
       "      <th>1</th>\n",
       "      <td>SpiceJet</td>\n",
       "      <td>GOI</td>\n",
       "      <td>JAI</td>\n",
       "      <td>7:05 PM</td>\n",
       "      <td>11:00 PM</td>\n",
       "      <td>3 hr 55 min</td>\n",
       "      <td>1 stop</td>\n",
       "      <td>7,323</td>\n",
       "    </tr>\n",
       "    <tr>\n",
       "      <th>2</th>\n",
       "      <td>AirAsia (India)</td>\n",
       "      <td>GOI</td>\n",
       "      <td>JAI</td>\n",
       "      <td>5:35 AM</td>\n",
       "      <td>9:50 AM</td>\n",
       "      <td>4 hr 15 min</td>\n",
       "      <td>1 stop</td>\n",
       "      <td>8,355</td>\n",
       "    </tr>\n",
       "    <tr>\n",
       "      <th>3</th>\n",
       "      <td>IndiGo</td>\n",
       "      <td>GOI</td>\n",
       "      <td>JAI</td>\n",
       "      <td>2:45 PM</td>\n",
       "      <td>7:25 PM</td>\n",
       "      <td>4 hr 40 min</td>\n",
       "      <td>1 stop</td>\n",
       "      <td>8,939</td>\n",
       "    </tr>\n",
       "    <tr>\n",
       "      <th>4</th>\n",
       "      <td>GO FIRST</td>\n",
       "      <td>GOI</td>\n",
       "      <td>JAI</td>\n",
       "      <td>6:40 AM</td>\n",
       "      <td>9:05 PM</td>\n",
       "      <td>14 hr 25 min</td>\n",
       "      <td>1 stop</td>\n",
       "      <td>8,280</td>\n",
       "    </tr>\n",
       "    <tr>\n",
       "      <th>...</th>\n",
       "      <td>...</td>\n",
       "      <td>...</td>\n",
       "      <td>...</td>\n",
       "      <td>...</td>\n",
       "      <td>...</td>\n",
       "      <td>...</td>\n",
       "      <td>...</td>\n",
       "      <td>...</td>\n",
       "    </tr>\n",
       "    <tr>\n",
       "      <th>107</th>\n",
       "      <td>Air India, SriLankan</td>\n",
       "      <td>GOI</td>\n",
       "      <td>JAI</td>\n",
       "      <td>11:10 PM</td>\n",
       "      <td>12:55 PM+2</td>\n",
       "      <td>37 hr 45 min</td>\n",
       "      <td>3 stops</td>\n",
       "      <td>38,906</td>\n",
       "    </tr>\n",
       "    <tr>\n",
       "      <th>108</th>\n",
       "      <td>Air India, SriLankan</td>\n",
       "      <td>GOI</td>\n",
       "      <td>JAI</td>\n",
       "      <td>11:10 PM</td>\n",
       "      <td>12:55 PM+2</td>\n",
       "      <td>37 hr 45 min</td>\n",
       "      <td>3 stops</td>\n",
       "      <td>38,906</td>\n",
       "    </tr>\n",
       "    <tr>\n",
       "      <th>109</th>\n",
       "      <td>Air India, SriLankan</td>\n",
       "      <td>GOI</td>\n",
       "      <td>JAI</td>\n",
       "      <td>6:50 AM</td>\n",
       "      <td>12:55 PM+1</td>\n",
       "      <td>30 hr 5 min</td>\n",
       "      <td>3 stops</td>\n",
       "      <td>41,652</td>\n",
       "    </tr>\n",
       "    <tr>\n",
       "      <th>110</th>\n",
       "      <td>Air India, SriLankan</td>\n",
       "      <td>GOI</td>\n",
       "      <td>JAI</td>\n",
       "      <td>3:15 PM</td>\n",
       "      <td>12:55 PM+1</td>\n",
       "      <td>21 hr 40 min</td>\n",
       "      <td>3 stops</td>\n",
       "      <td>41,652</td>\n",
       "    </tr>\n",
       "    <tr>\n",
       "      <th>111</th>\n",
       "      <td>Air India, SriLankan</td>\n",
       "      <td>GOI</td>\n",
       "      <td>JAI</td>\n",
       "      <td>2:15 PM</td>\n",
       "      <td>1:25 PM+1</td>\n",
       "      <td>23 hr 10 min</td>\n",
       "      <td>3 stops</td>\n",
       "      <td>86,860</td>\n",
       "    </tr>\n",
       "  </tbody>\n",
       "</table>\n",
       "<p>112 rows × 8 columns</p>\n",
       "</div>"
      ],
      "text/plain": [
       "                  Airline Source Destination Departure     Arrival  \\\n",
       "0                  IndiGo    GOI         JAI   3:25 AM     5:30 AM   \n",
       "1                SpiceJet    GOI         JAI   7:05 PM    11:00 PM   \n",
       "2         AirAsia (India)    GOI         JAI   5:35 AM     9:50 AM   \n",
       "3                  IndiGo    GOI         JAI   2:45 PM     7:25 PM   \n",
       "4                GO FIRST    GOI         JAI   6:40 AM     9:05 PM   \n",
       "..                    ...    ...         ...       ...         ...   \n",
       "107  Air India, SriLankan    GOI         JAI  11:10 PM  12:55 PM+2   \n",
       "108  Air India, SriLankan    GOI         JAI  11:10 PM  12:55 PM+2   \n",
       "109  Air India, SriLankan    GOI         JAI   6:50 AM  12:55 PM+1   \n",
       "110  Air India, SriLankan    GOI         JAI   3:15 PM  12:55 PM+1   \n",
       "111  Air India, SriLankan    GOI         JAI   2:15 PM   1:25 PM+1   \n",
       "\n",
       "         Duration Total_stops   Price  \n",
       "0      2 hr 5 min     Nonstop   4,052  \n",
       "1     3 hr 55 min      1 stop   7,323  \n",
       "2     4 hr 15 min      1 stop   8,355  \n",
       "3     4 hr 40 min      1 stop   8,939  \n",
       "4    14 hr 25 min      1 stop   8,280  \n",
       "..            ...         ...     ...  \n",
       "107  37 hr 45 min     3 stops  38,906  \n",
       "108  37 hr 45 min     3 stops  38,906  \n",
       "109   30 hr 5 min     3 stops  41,652  \n",
       "110  21 hr 40 min     3 stops  41,652  \n",
       "111  23 hr 10 min     3 stops  86,860  \n",
       "\n",
       "[112 rows x 8 columns]"
      ]
     },
     "execution_count": 71,
     "metadata": {},
     "output_type": "execute_result"
    }
   ],
   "source": [
    "GJ = pd.DataFrame({})\n",
    "GJ['Airline'] = Air\n",
    "GJ['Source'] = Source\n",
    "GJ['Destination'] = Destination\n",
    "GJ['Departure'] = Departure\n",
    "GJ['Arrival'] = Arrival\n",
    "GJ['Duration'] = Duration\n",
    "GJ['Total_stops'] = Total_stops\n",
    "GJ['Price'] = Price\n",
    "\n",
    "GJ"
   ]
  },
  {
   "cell_type": "code",
   "execution_count": 72,
   "id": "0c7f1bde",
   "metadata": {},
   "outputs": [],
   "source": [
    "GJ.to_csv('gj.csv')"
   ]
  },
  {
   "cell_type": "markdown",
   "id": "d05f0ca5",
   "metadata": {},
   "source": [
    "### Delhi to Ahmedabad"
   ]
  },
  {
   "cell_type": "code",
   "execution_count": 73,
   "id": "c3ff0a87",
   "metadata": {},
   "outputs": [
    {
     "data": {
      "text/plain": [
       "117"
      ]
     },
     "execution_count": 73,
     "metadata": {},
     "output_type": "execute_result"
    }
   ],
   "source": [
    "Air = []\n",
    "\n",
    "arr = driver.find_elements_by_xpath('//div[@class=\"TQqf0e sSHqwe tPgKwe ogfYpf\"]/span')\n",
    "for i in arr:\n",
    "    a = i.text\n",
    "    Air.append(a)\n",
    "    \n",
    "len(Air)"
   ]
  },
  {
   "cell_type": "code",
   "execution_count": 74,
   "id": "d1f05462",
   "metadata": {},
   "outputs": [
    {
     "data": {
      "text/plain": [
       "117"
      ]
     },
     "execution_count": 74,
     "metadata": {},
     "output_type": "execute_result"
    }
   ],
   "source": [
    "Departure = []\n",
    "\n",
    "dept = driver.find_elements_by_xpath('//span[@class=\"mv1WYe\"]/span[1]')\n",
    "for i in dept:\n",
    "    d = i.text\n",
    "    Departure.append(d)\n",
    "    \n",
    "len(Departure)"
   ]
  },
  {
   "cell_type": "code",
   "execution_count": 75,
   "id": "771cc7a2",
   "metadata": {},
   "outputs": [
    {
     "data": {
      "text/plain": [
       "117"
      ]
     },
     "execution_count": 75,
     "metadata": {},
     "output_type": "execute_result"
    }
   ],
   "source": [
    "Arrival = []\n",
    "\n",
    "arrvl = driver.find_elements_by_xpath('//span[@class=\"mv1WYe\"]/span[2]')\n",
    "for i in arrvl:\n",
    "    arr = i.text\n",
    "    Arrival.append(arr)\n",
    "    \n",
    "len(Arrival)"
   ]
  },
  {
   "cell_type": "code",
   "execution_count": 76,
   "id": "2be90f2e",
   "metadata": {},
   "outputs": [
    {
     "data": {
      "text/plain": [
       "117"
      ]
     },
     "execution_count": 76,
     "metadata": {},
     "output_type": "execute_result"
    }
   ],
   "source": [
    "Source = []\n",
    "\n",
    "source = driver.find_elements_by_xpath('//span[@class=\"z0fuv sSHqwe tPgKwe ogfYpf\"]/span[1]')\n",
    "for i in source:\n",
    "    s = i.text\n",
    "    Source.append(s)\n",
    "    \n",
    "len(Source)"
   ]
  },
  {
   "cell_type": "code",
   "execution_count": 77,
   "id": "5028fcfa",
   "metadata": {},
   "outputs": [
    {
     "data": {
      "text/plain": [
       "117"
      ]
     },
     "execution_count": 77,
     "metadata": {},
     "output_type": "execute_result"
    }
   ],
   "source": [
    "Destination = []\n",
    "\n",
    "destin = driver.find_elements_by_xpath('//span[@class=\"z0fuv sSHqwe tPgKwe ogfYpf\"]/span[2]')\n",
    "for i in destin:\n",
    "    dest = i.text\n",
    "    Destination.append(dest)\n",
    "    \n",
    "len(Destination)"
   ]
  },
  {
   "cell_type": "code",
   "execution_count": 78,
   "id": "b2df7aba",
   "metadata": {},
   "outputs": [
    {
     "data": {
      "text/plain": [
       "117"
      ]
     },
     "execution_count": 78,
     "metadata": {},
     "output_type": "execute_result"
    }
   ],
   "source": [
    "Duration = []\n",
    "\n",
    "duration = driver.find_elements_by_xpath('//div[@class=\"gvkrdb AdWm1c tPgKwe ogfYpf\"]')\n",
    "for i in duration:\n",
    "    dur = i.text\n",
    "    Duration.append(dur)\n",
    "    \n",
    "len(Duration)"
   ]
  },
  {
   "cell_type": "code",
   "execution_count": 79,
   "id": "8dd949d5",
   "metadata": {},
   "outputs": [
    {
     "data": {
      "text/plain": [
       "117"
      ]
     },
     "execution_count": 79,
     "metadata": {},
     "output_type": "execute_result"
    }
   ],
   "source": [
    "Total_stops = []\n",
    "\n",
    "stops = driver.find_elements_by_xpath('//span[@class=\"pIgMWd ogfYpf\"]')\n",
    "for i in stops:\n",
    "    stp = i.text\n",
    "    Total_stops.append(stp)\n",
    "    \n",
    "len(Total_stops)"
   ]
  },
  {
   "cell_type": "code",
   "execution_count": 80,
   "id": "48d608b7",
   "metadata": {},
   "outputs": [
    {
     "data": {
      "text/plain": [
       "117"
      ]
     },
     "execution_count": 80,
     "metadata": {},
     "output_type": "execute_result"
    }
   ],
   "source": [
    "Price = []\n",
    "\n",
    "price = driver.find_elements_by_xpath('//div[@class=\"BVAVmf I11szd POX3ye\"]/div[2]/span')\n",
    "for i in price:\n",
    "    p = i.text.strip('₹')\n",
    "    Price.append(p)\n",
    "    \n",
    "len(Price)"
   ]
  },
  {
   "cell_type": "code",
   "execution_count": 81,
   "id": "d975b9d3",
   "metadata": {},
   "outputs": [
    {
     "data": {
      "text/html": [
       "<div>\n",
       "<style scoped>\n",
       "    .dataframe tbody tr th:only-of-type {\n",
       "        vertical-align: middle;\n",
       "    }\n",
       "\n",
       "    .dataframe tbody tr th {\n",
       "        vertical-align: top;\n",
       "    }\n",
       "\n",
       "    .dataframe thead th {\n",
       "        text-align: right;\n",
       "    }\n",
       "</style>\n",
       "<table border=\"1\" class=\"dataframe\">\n",
       "  <thead>\n",
       "    <tr style=\"text-align: right;\">\n",
       "      <th></th>\n",
       "      <th>Airline</th>\n",
       "      <th>Source</th>\n",
       "      <th>Destination</th>\n",
       "      <th>Departure</th>\n",
       "      <th>Arrival</th>\n",
       "      <th>Duration</th>\n",
       "      <th>Total_stops</th>\n",
       "      <th>Price</th>\n",
       "    </tr>\n",
       "  </thead>\n",
       "  <tbody>\n",
       "    <tr>\n",
       "      <th>0</th>\n",
       "      <td>SpiceJet</td>\n",
       "      <td>DEL</td>\n",
       "      <td>AMD</td>\n",
       "      <td>5:55 AM</td>\n",
       "      <td>7:40 AM</td>\n",
       "      <td>1 hr 45 min</td>\n",
       "      <td>Nonstop</td>\n",
       "      <td>5,068</td>\n",
       "    </tr>\n",
       "    <tr>\n",
       "      <th>1</th>\n",
       "      <td>GO FIRST</td>\n",
       "      <td>DEL</td>\n",
       "      <td>AMD</td>\n",
       "      <td>3:30 PM</td>\n",
       "      <td>5:05 PM</td>\n",
       "      <td>1 hr 35 min</td>\n",
       "      <td>Nonstop</td>\n",
       "      <td>5,073</td>\n",
       "    </tr>\n",
       "    <tr>\n",
       "      <th>2</th>\n",
       "      <td>IndiGo</td>\n",
       "      <td>DEL</td>\n",
       "      <td>AMD</td>\n",
       "      <td>1:30 PM</td>\n",
       "      <td>3:10 PM</td>\n",
       "      <td>1 hr 40 min</td>\n",
       "      <td>Nonstop</td>\n",
       "      <td>5,074</td>\n",
       "    </tr>\n",
       "    <tr>\n",
       "      <th>3</th>\n",
       "      <td>SpiceJet</td>\n",
       "      <td>DEL</td>\n",
       "      <td>AMD</td>\n",
       "      <td>8:10 PM</td>\n",
       "      <td>9:50 PM</td>\n",
       "      <td>1 hr 40 min</td>\n",
       "      <td>Nonstop</td>\n",
       "      <td>5,068</td>\n",
       "    </tr>\n",
       "    <tr>\n",
       "      <th>4</th>\n",
       "      <td>GO FIRST</td>\n",
       "      <td>DEL</td>\n",
       "      <td>AMD</td>\n",
       "      <td>6:00 AM</td>\n",
       "      <td>7:30 AM</td>\n",
       "      <td>1 hr 30 min</td>\n",
       "      <td>Nonstop</td>\n",
       "      <td>5,073</td>\n",
       "    </tr>\n",
       "    <tr>\n",
       "      <th>...</th>\n",
       "      <td>...</td>\n",
       "      <td>...</td>\n",
       "      <td>...</td>\n",
       "      <td>...</td>\n",
       "      <td>...</td>\n",
       "      <td>...</td>\n",
       "      <td>...</td>\n",
       "      <td>...</td>\n",
       "    </tr>\n",
       "    <tr>\n",
       "      <th>112</th>\n",
       "      <td>flydubai, Emirates</td>\n",
       "      <td>DEL</td>\n",
       "      <td>AMD</td>\n",
       "      <td>10:00 AM</td>\n",
       "      <td>2:55 AM+1</td>\n",
       "      <td>16 hr 55 min</td>\n",
       "      <td>1 stop</td>\n",
       "      <td>49,942</td>\n",
       "    </tr>\n",
       "    <tr>\n",
       "      <th>113</th>\n",
       "      <td>Etihad</td>\n",
       "      <td>DEL</td>\n",
       "      <td>AMD</td>\n",
       "      <td>4:35 AM</td>\n",
       "      <td>3:55 AM+1</td>\n",
       "      <td>23 hr 20 min</td>\n",
       "      <td>1 stop</td>\n",
       "      <td>77,824</td>\n",
       "    </tr>\n",
       "    <tr>\n",
       "      <th>114</th>\n",
       "      <td>Etihad</td>\n",
       "      <td>DEL</td>\n",
       "      <td>AMD</td>\n",
       "      <td>8:50 PM</td>\n",
       "      <td>3:55 AM+2</td>\n",
       "      <td>31 hr 5 min</td>\n",
       "      <td>1 stop</td>\n",
       "      <td>79,110</td>\n",
       "    </tr>\n",
       "    <tr>\n",
       "      <th>115</th>\n",
       "      <td>Qatar Airways</td>\n",
       "      <td>DEL</td>\n",
       "      <td>AMD</td>\n",
       "      <td>3:40 AM</td>\n",
       "      <td>2:05 AM+1</td>\n",
       "      <td>22 hr 25 min</td>\n",
       "      <td>1 stop</td>\n",
       "      <td>89,383</td>\n",
       "    </tr>\n",
       "    <tr>\n",
       "      <th>116</th>\n",
       "      <td>Qatar Airways</td>\n",
       "      <td>DEL</td>\n",
       "      <td>AMD</td>\n",
       "      <td>10:00 AM</td>\n",
       "      <td>2:05 AM+1</td>\n",
       "      <td>16 hr 5 min</td>\n",
       "      <td>1 stop</td>\n",
       "      <td>89,383</td>\n",
       "    </tr>\n",
       "  </tbody>\n",
       "</table>\n",
       "<p>117 rows × 8 columns</p>\n",
       "</div>"
      ],
      "text/plain": [
       "                Airline Source Destination Departure    Arrival      Duration  \\\n",
       "0              SpiceJet    DEL         AMD   5:55 AM    7:40 AM   1 hr 45 min   \n",
       "1              GO FIRST    DEL         AMD   3:30 PM    5:05 PM   1 hr 35 min   \n",
       "2                IndiGo    DEL         AMD   1:30 PM    3:10 PM   1 hr 40 min   \n",
       "3              SpiceJet    DEL         AMD   8:10 PM    9:50 PM   1 hr 40 min   \n",
       "4              GO FIRST    DEL         AMD   6:00 AM    7:30 AM   1 hr 30 min   \n",
       "..                  ...    ...         ...       ...        ...           ...   \n",
       "112  flydubai, Emirates    DEL         AMD  10:00 AM  2:55 AM+1  16 hr 55 min   \n",
       "113              Etihad    DEL         AMD   4:35 AM  3:55 AM+1  23 hr 20 min   \n",
       "114              Etihad    DEL         AMD   8:50 PM  3:55 AM+2   31 hr 5 min   \n",
       "115       Qatar Airways    DEL         AMD   3:40 AM  2:05 AM+1  22 hr 25 min   \n",
       "116       Qatar Airways    DEL         AMD  10:00 AM  2:05 AM+1   16 hr 5 min   \n",
       "\n",
       "    Total_stops   Price  \n",
       "0       Nonstop   5,068  \n",
       "1       Nonstop   5,073  \n",
       "2       Nonstop   5,074  \n",
       "3       Nonstop   5,068  \n",
       "4       Nonstop   5,073  \n",
       "..          ...     ...  \n",
       "112      1 stop  49,942  \n",
       "113      1 stop  77,824  \n",
       "114      1 stop  79,110  \n",
       "115      1 stop  89,383  \n",
       "116      1 stop  89,383  \n",
       "\n",
       "[117 rows x 8 columns]"
      ]
     },
     "execution_count": 81,
     "metadata": {},
     "output_type": "execute_result"
    }
   ],
   "source": [
    "DA = pd.DataFrame({})\n",
    "DA['Airline'] = Air\n",
    "DA['Source'] = Source\n",
    "DA['Destination'] = Destination\n",
    "DA['Departure'] = Departure\n",
    "DA['Arrival'] = Arrival\n",
    "DA['Duration'] = Duration\n",
    "DA['Total_stops'] = Total_stops\n",
    "DA['Price'] = Price\n",
    "\n",
    "DA"
   ]
  },
  {
   "cell_type": "code",
   "execution_count": 82,
   "id": "63b96f60",
   "metadata": {},
   "outputs": [],
   "source": [
    "DA.to_csv('da.csv')"
   ]
  },
  {
   "cell_type": "markdown",
   "id": "bed1aea0",
   "metadata": {},
   "source": [
    "### Lucknow to Chennai"
   ]
  },
  {
   "cell_type": "code",
   "execution_count": 83,
   "id": "ff5bd2b3",
   "metadata": {},
   "outputs": [
    {
     "data": {
      "text/plain": [
       "198"
      ]
     },
     "execution_count": 83,
     "metadata": {},
     "output_type": "execute_result"
    }
   ],
   "source": [
    "Air = []\n",
    "\n",
    "arr = driver.find_elements_by_xpath('//div[@class=\"TQqf0e sSHqwe tPgKwe ogfYpf\"]/span')\n",
    "for i in arr:\n",
    "    a = i.text\n",
    "    Air.append(a)\n",
    "    \n",
    "len(Air)"
   ]
  },
  {
   "cell_type": "code",
   "execution_count": 84,
   "id": "17f07771",
   "metadata": {},
   "outputs": [
    {
     "data": {
      "text/plain": [
       "198"
      ]
     },
     "execution_count": 84,
     "metadata": {},
     "output_type": "execute_result"
    }
   ],
   "source": [
    "Departure = []\n",
    "\n",
    "dept = driver.find_elements_by_xpath('//span[@class=\"mv1WYe\"]/span[1]')\n",
    "for i in dept:\n",
    "    d = i.text\n",
    "    Departure.append(d)\n",
    "    \n",
    "len(Departure)"
   ]
  },
  {
   "cell_type": "code",
   "execution_count": 85,
   "id": "11ae79dd",
   "metadata": {},
   "outputs": [
    {
     "data": {
      "text/plain": [
       "198"
      ]
     },
     "execution_count": 85,
     "metadata": {},
     "output_type": "execute_result"
    }
   ],
   "source": [
    "Arrival = []\n",
    "\n",
    "arrvl = driver.find_elements_by_xpath('//span[@class=\"mv1WYe\"]/span[2]')\n",
    "for i in arrvl:\n",
    "    arr = i.text\n",
    "    Arrival.append(arr)\n",
    "    \n",
    "len(Arrival)"
   ]
  },
  {
   "cell_type": "code",
   "execution_count": 86,
   "id": "ec9126b0",
   "metadata": {},
   "outputs": [
    {
     "data": {
      "text/plain": [
       "198"
      ]
     },
     "execution_count": 86,
     "metadata": {},
     "output_type": "execute_result"
    }
   ],
   "source": [
    "Source = []\n",
    "\n",
    "source = driver.find_elements_by_xpath('//span[@class=\"z0fuv sSHqwe tPgKwe ogfYpf\"]/span[1]')\n",
    "for i in source:\n",
    "    s = i.text\n",
    "    Source.append(s)\n",
    "    \n",
    "len(Source)"
   ]
  },
  {
   "cell_type": "code",
   "execution_count": 87,
   "id": "2cdfcdfb",
   "metadata": {},
   "outputs": [
    {
     "data": {
      "text/plain": [
       "198"
      ]
     },
     "execution_count": 87,
     "metadata": {},
     "output_type": "execute_result"
    }
   ],
   "source": [
    "Destination = []\n",
    "\n",
    "destin = driver.find_elements_by_xpath('//span[@class=\"z0fuv sSHqwe tPgKwe ogfYpf\"]/span[2]')\n",
    "for i in destin:\n",
    "    dest = i.text\n",
    "    Destination.append(dest)\n",
    "    \n",
    "len(Destination)"
   ]
  },
  {
   "cell_type": "code",
   "execution_count": 88,
   "id": "fb16431e",
   "metadata": {},
   "outputs": [
    {
     "data": {
      "text/plain": [
       "198"
      ]
     },
     "execution_count": 88,
     "metadata": {},
     "output_type": "execute_result"
    }
   ],
   "source": [
    "Duration = []\n",
    "\n",
    "duration = driver.find_elements_by_xpath('//div[@class=\"gvkrdb AdWm1c tPgKwe ogfYpf\"]')\n",
    "for i in duration:\n",
    "    dur = i.text\n",
    "    Duration.append(dur)\n",
    "    \n",
    "len(Duration)"
   ]
  },
  {
   "cell_type": "code",
   "execution_count": 89,
   "id": "adc406b0",
   "metadata": {},
   "outputs": [
    {
     "data": {
      "text/plain": [
       "198"
      ]
     },
     "execution_count": 89,
     "metadata": {},
     "output_type": "execute_result"
    }
   ],
   "source": [
    "Total_stops = []\n",
    "\n",
    "stops = driver.find_elements_by_xpath('//span[@class=\"pIgMWd ogfYpf\"]')\n",
    "for i in stops:\n",
    "    stp = i.text\n",
    "    Total_stops.append(stp)\n",
    "    \n",
    "len(Total_stops)"
   ]
  },
  {
   "cell_type": "code",
   "execution_count": 90,
   "id": "7ecd4338",
   "metadata": {},
   "outputs": [
    {
     "data": {
      "text/plain": [
       "198"
      ]
     },
     "execution_count": 90,
     "metadata": {},
     "output_type": "execute_result"
    }
   ],
   "source": [
    "Price = []\n",
    "\n",
    "price = driver.find_elements_by_xpath('//div[@class=\"BVAVmf I11szd POX3ye\"]/div[2]/span')\n",
    "for i in price:\n",
    "    p = i.text.strip('₹')\n",
    "    Price.append(p)\n",
    "    \n",
    "len(Price)"
   ]
  },
  {
   "cell_type": "code",
   "execution_count": 91,
   "id": "82d4f9ec",
   "metadata": {},
   "outputs": [
    {
     "data": {
      "text/html": [
       "<div>\n",
       "<style scoped>\n",
       "    .dataframe tbody tr th:only-of-type {\n",
       "        vertical-align: middle;\n",
       "    }\n",
       "\n",
       "    .dataframe tbody tr th {\n",
       "        vertical-align: top;\n",
       "    }\n",
       "\n",
       "    .dataframe thead th {\n",
       "        text-align: right;\n",
       "    }\n",
       "</style>\n",
       "<table border=\"1\" class=\"dataframe\">\n",
       "  <thead>\n",
       "    <tr style=\"text-align: right;\">\n",
       "      <th></th>\n",
       "      <th>Airline</th>\n",
       "      <th>Source</th>\n",
       "      <th>Destination</th>\n",
       "      <th>Departure</th>\n",
       "      <th>Arrival</th>\n",
       "      <th>Duration</th>\n",
       "      <th>Total_stops</th>\n",
       "      <th>Price</th>\n",
       "    </tr>\n",
       "  </thead>\n",
       "  <tbody>\n",
       "    <tr>\n",
       "      <th>0</th>\n",
       "      <td>IndiGo</td>\n",
       "      <td>LKO</td>\n",
       "      <td>MAA</td>\n",
       "      <td>5:25 PM</td>\n",
       "      <td>8:00 PM</td>\n",
       "      <td>2 hr 35 min</td>\n",
       "      <td>Nonstop</td>\n",
       "      <td>4,190</td>\n",
       "    </tr>\n",
       "    <tr>\n",
       "      <th>1</th>\n",
       "      <td>Vistara</td>\n",
       "      <td>LKO</td>\n",
       "      <td>MAA</td>\n",
       "      <td>5:50 PM</td>\n",
       "      <td>10:45 PM</td>\n",
       "      <td>4 hr 55 min</td>\n",
       "      <td>1 stop</td>\n",
       "      <td>7,285</td>\n",
       "    </tr>\n",
       "    <tr>\n",
       "      <th>2</th>\n",
       "      <td>Vistara</td>\n",
       "      <td>LKO</td>\n",
       "      <td>MAA</td>\n",
       "      <td>3:25 PM</td>\n",
       "      <td>8:15 PM</td>\n",
       "      <td>4 hr 50 min</td>\n",
       "      <td>1 stop</td>\n",
       "      <td>8,082</td>\n",
       "    </tr>\n",
       "    <tr>\n",
       "      <th>3</th>\n",
       "      <td>Vistara</td>\n",
       "      <td>LKO</td>\n",
       "      <td>MAA</td>\n",
       "      <td>3:25 PM</td>\n",
       "      <td>10:10 AM+1</td>\n",
       "      <td>18 hr 45 min</td>\n",
       "      <td>1 stop</td>\n",
       "      <td>7,421</td>\n",
       "    </tr>\n",
       "    <tr>\n",
       "      <th>4</th>\n",
       "      <td>Vistara</td>\n",
       "      <td>LKO</td>\n",
       "      <td>MAA</td>\n",
       "      <td>5:50 PM</td>\n",
       "      <td>10:10 AM+1</td>\n",
       "      <td>16 hr 20 min</td>\n",
       "      <td>1 stop</td>\n",
       "      <td>7,421</td>\n",
       "    </tr>\n",
       "    <tr>\n",
       "      <th>...</th>\n",
       "      <td>...</td>\n",
       "      <td>...</td>\n",
       "      <td>...</td>\n",
       "      <td>...</td>\n",
       "      <td>...</td>\n",
       "      <td>...</td>\n",
       "      <td>...</td>\n",
       "      <td>...</td>\n",
       "    </tr>\n",
       "    <tr>\n",
       "      <th>193</th>\n",
       "      <td>Air India, Gulf Air</td>\n",
       "      <td>LKO</td>\n",
       "      <td>MAA</td>\n",
       "      <td>8:15 PM</td>\n",
       "      <td>8:40 PM+1</td>\n",
       "      <td>24 hr 25 min</td>\n",
       "      <td>2 stops</td>\n",
       "      <td>59,603</td>\n",
       "    </tr>\n",
       "    <tr>\n",
       "      <th>194</th>\n",
       "      <td>Air India, Gulf Air</td>\n",
       "      <td>LKO</td>\n",
       "      <td>MAA</td>\n",
       "      <td>8:15 PM</td>\n",
       "      <td>8:40 PM+1</td>\n",
       "      <td>24 hr 25 min</td>\n",
       "      <td>2 stops</td>\n",
       "      <td>59,603</td>\n",
       "    </tr>\n",
       "    <tr>\n",
       "      <th>195</th>\n",
       "      <td>Air India, Gulf Air</td>\n",
       "      <td>LKO</td>\n",
       "      <td>MAA</td>\n",
       "      <td>8:15 PM</td>\n",
       "      <td>3:20 AM+2</td>\n",
       "      <td>31 hr 5 min</td>\n",
       "      <td>2 stops</td>\n",
       "      <td>59,603</td>\n",
       "    </tr>\n",
       "    <tr>\n",
       "      <th>196</th>\n",
       "      <td>Air India, Gulf Air</td>\n",
       "      <td>LKO</td>\n",
       "      <td>MAA</td>\n",
       "      <td>8:15 PM</td>\n",
       "      <td>3:20 AM+2</td>\n",
       "      <td>31 hr 5 min</td>\n",
       "      <td>2 stops</td>\n",
       "      <td>59,603</td>\n",
       "    </tr>\n",
       "    <tr>\n",
       "      <th>197</th>\n",
       "      <td>Air India, SriLankan</td>\n",
       "      <td>LKO</td>\n",
       "      <td>MAA</td>\n",
       "      <td>2:05 PM</td>\n",
       "      <td>7:25 AM+1</td>\n",
       "      <td>17 hr 20 min</td>\n",
       "      <td>3 stops</td>\n",
       "      <td>78,535</td>\n",
       "    </tr>\n",
       "  </tbody>\n",
       "</table>\n",
       "<p>198 rows × 8 columns</p>\n",
       "</div>"
      ],
      "text/plain": [
       "                  Airline Source Destination Departure     Arrival  \\\n",
       "0                  IndiGo    LKO         MAA   5:25 PM     8:00 PM   \n",
       "1                 Vistara    LKO         MAA   5:50 PM    10:45 PM   \n",
       "2                 Vistara    LKO         MAA   3:25 PM     8:15 PM   \n",
       "3                 Vistara    LKO         MAA   3:25 PM  10:10 AM+1   \n",
       "4                 Vistara    LKO         MAA   5:50 PM  10:10 AM+1   \n",
       "..                    ...    ...         ...       ...         ...   \n",
       "193   Air India, Gulf Air    LKO         MAA   8:15 PM   8:40 PM+1   \n",
       "194   Air India, Gulf Air    LKO         MAA   8:15 PM   8:40 PM+1   \n",
       "195   Air India, Gulf Air    LKO         MAA   8:15 PM   3:20 AM+2   \n",
       "196   Air India, Gulf Air    LKO         MAA   8:15 PM   3:20 AM+2   \n",
       "197  Air India, SriLankan    LKO         MAA   2:05 PM   7:25 AM+1   \n",
       "\n",
       "         Duration Total_stops   Price  \n",
       "0     2 hr 35 min     Nonstop   4,190  \n",
       "1     4 hr 55 min      1 stop   7,285  \n",
       "2     4 hr 50 min      1 stop   8,082  \n",
       "3    18 hr 45 min      1 stop   7,421  \n",
       "4    16 hr 20 min      1 stop   7,421  \n",
       "..            ...         ...     ...  \n",
       "193  24 hr 25 min     2 stops  59,603  \n",
       "194  24 hr 25 min     2 stops  59,603  \n",
       "195   31 hr 5 min     2 stops  59,603  \n",
       "196   31 hr 5 min     2 stops  59,603  \n",
       "197  17 hr 20 min     3 stops  78,535  \n",
       "\n",
       "[198 rows x 8 columns]"
      ]
     },
     "execution_count": 91,
     "metadata": {},
     "output_type": "execute_result"
    }
   ],
   "source": [
    "LC = pd.DataFrame({})\n",
    "LC['Airline'] = Air\n",
    "LC['Source'] = Source\n",
    "LC['Destination'] = Destination\n",
    "LC['Departure'] = Departure\n",
    "LC['Arrival'] = Arrival\n",
    "LC['Duration'] = Duration\n",
    "LC['Total_stops'] = Total_stops\n",
    "LC['Price'] = Price\n",
    "\n",
    "LC"
   ]
  },
  {
   "cell_type": "code",
   "execution_count": 92,
   "id": "d67f04af",
   "metadata": {},
   "outputs": [],
   "source": [
    "LC.to_csv('lc.csv')"
   ]
  },
  {
   "cell_type": "markdown",
   "id": "8d1abfd6",
   "metadata": {},
   "source": [
    "### Mumbai to Delhi"
   ]
  },
  {
   "cell_type": "code",
   "execution_count": 93,
   "id": "1c5f26e5",
   "metadata": {},
   "outputs": [
    {
     "data": {
      "text/plain": [
       "254"
      ]
     },
     "execution_count": 93,
     "metadata": {},
     "output_type": "execute_result"
    }
   ],
   "source": [
    "Air = []\n",
    "\n",
    "arr = driver.find_elements_by_xpath('//div[@class=\"TQqf0e sSHqwe tPgKwe ogfYpf\"]/span')\n",
    "for i in arr:\n",
    "    a = i.text\n",
    "    Air.append(a)\n",
    "    \n",
    "len(Air)"
   ]
  },
  {
   "cell_type": "code",
   "execution_count": 94,
   "id": "2bbb0973",
   "metadata": {},
   "outputs": [
    {
     "data": {
      "text/plain": [
       "254"
      ]
     },
     "execution_count": 94,
     "metadata": {},
     "output_type": "execute_result"
    }
   ],
   "source": [
    "Departure = []\n",
    "\n",
    "dept = driver.find_elements_by_xpath('//span[@class=\"mv1WYe\"]/span[1]')\n",
    "for i in dept:\n",
    "    d = i.text\n",
    "    Departure.append(d)\n",
    "    \n",
    "len(Departure)"
   ]
  },
  {
   "cell_type": "code",
   "execution_count": 95,
   "id": "76a91b5a",
   "metadata": {},
   "outputs": [
    {
     "data": {
      "text/plain": [
       "254"
      ]
     },
     "execution_count": 95,
     "metadata": {},
     "output_type": "execute_result"
    }
   ],
   "source": [
    "Arrival = []\n",
    "\n",
    "arrvl = driver.find_elements_by_xpath('//span[@class=\"mv1WYe\"]/span[2]')\n",
    "for i in arrvl:\n",
    "    arr = i.text\n",
    "    Arrival.append(arr)\n",
    "    \n",
    "len(Arrival)"
   ]
  },
  {
   "cell_type": "code",
   "execution_count": 96,
   "id": "4325f83d",
   "metadata": {},
   "outputs": [
    {
     "data": {
      "text/plain": [
       "254"
      ]
     },
     "execution_count": 96,
     "metadata": {},
     "output_type": "execute_result"
    }
   ],
   "source": [
    "Source = []\n",
    "\n",
    "source = driver.find_elements_by_xpath('//span[@class=\"z0fuv sSHqwe tPgKwe ogfYpf\"]/span[1]')\n",
    "for i in source:\n",
    "    s = i.text\n",
    "    Source.append(s)\n",
    "    \n",
    "len(Source)"
   ]
  },
  {
   "cell_type": "code",
   "execution_count": 97,
   "id": "bdbfdf1c",
   "metadata": {},
   "outputs": [
    {
     "data": {
      "text/plain": [
       "254"
      ]
     },
     "execution_count": 97,
     "metadata": {},
     "output_type": "execute_result"
    }
   ],
   "source": [
    "Destination = []\n",
    "\n",
    "destin = driver.find_elements_by_xpath('//span[@class=\"z0fuv sSHqwe tPgKwe ogfYpf\"]/span[2]')\n",
    "for i in destin:\n",
    "    dest = i.text\n",
    "    Destination.append(dest)\n",
    "    \n",
    "len(Destination)"
   ]
  },
  {
   "cell_type": "code",
   "execution_count": 98,
   "id": "e11d5b54",
   "metadata": {},
   "outputs": [
    {
     "data": {
      "text/plain": [
       "254"
      ]
     },
     "execution_count": 98,
     "metadata": {},
     "output_type": "execute_result"
    }
   ],
   "source": [
    "Duration = []\n",
    "\n",
    "duration = driver.find_elements_by_xpath('//div[@class=\"gvkrdb AdWm1c tPgKwe ogfYpf\"]')\n",
    "for i in duration:\n",
    "    dur = i.text\n",
    "    Duration.append(dur)\n",
    "    \n",
    "len(Duration)"
   ]
  },
  {
   "cell_type": "code",
   "execution_count": 99,
   "id": "66dd9311",
   "metadata": {},
   "outputs": [
    {
     "data": {
      "text/plain": [
       "254"
      ]
     },
     "execution_count": 99,
     "metadata": {},
     "output_type": "execute_result"
    }
   ],
   "source": [
    "Total_stops = []\n",
    "\n",
    "stops = driver.find_elements_by_xpath('//span[@class=\"pIgMWd ogfYpf\"]')\n",
    "for i in stops:\n",
    "    stp = i.text\n",
    "    Total_stops.append(stp)\n",
    "    \n",
    "len(Total_stops)"
   ]
  },
  {
   "cell_type": "code",
   "execution_count": 100,
   "id": "36e7a428",
   "metadata": {},
   "outputs": [
    {
     "data": {
      "text/plain": [
       "254"
      ]
     },
     "execution_count": 100,
     "metadata": {},
     "output_type": "execute_result"
    }
   ],
   "source": [
    "Price = []\n",
    "\n",
    "price = driver.find_elements_by_xpath('//div[@class=\"BVAVmf I11szd POX3ye\"]/div[2]/span')\n",
    "for i in price:\n",
    "    p = i.text.strip('₹')\n",
    "    Price.append(p)\n",
    "    \n",
    "len(Price)"
   ]
  },
  {
   "cell_type": "code",
   "execution_count": 101,
   "id": "02d27926",
   "metadata": {},
   "outputs": [
    {
     "data": {
      "text/html": [
       "<div>\n",
       "<style scoped>\n",
       "    .dataframe tbody tr th:only-of-type {\n",
       "        vertical-align: middle;\n",
       "    }\n",
       "\n",
       "    .dataframe tbody tr th {\n",
       "        vertical-align: top;\n",
       "    }\n",
       "\n",
       "    .dataframe thead th {\n",
       "        text-align: right;\n",
       "    }\n",
       "</style>\n",
       "<table border=\"1\" class=\"dataframe\">\n",
       "  <thead>\n",
       "    <tr style=\"text-align: right;\">\n",
       "      <th></th>\n",
       "      <th>Airline</th>\n",
       "      <th>Source</th>\n",
       "      <th>Destination</th>\n",
       "      <th>Departure</th>\n",
       "      <th>Arrival</th>\n",
       "      <th>Duration</th>\n",
       "      <th>Total_stops</th>\n",
       "      <th>Price</th>\n",
       "    </tr>\n",
       "  </thead>\n",
       "  <tbody>\n",
       "    <tr>\n",
       "      <th>0</th>\n",
       "      <td>GO FIRST</td>\n",
       "      <td>BOM</td>\n",
       "      <td>DEL</td>\n",
       "      <td>9:55 AM</td>\n",
       "      <td>12:10 PM</td>\n",
       "      <td>2 hr 15 min</td>\n",
       "      <td>Nonstop</td>\n",
       "      <td>5,897</td>\n",
       "    </tr>\n",
       "    <tr>\n",
       "      <th>1</th>\n",
       "      <td>IndiGo</td>\n",
       "      <td>BOM</td>\n",
       "      <td>DEL</td>\n",
       "      <td>2:40 AM</td>\n",
       "      <td>4:45 AM</td>\n",
       "      <td>2 hr 5 min</td>\n",
       "      <td>Nonstop</td>\n",
       "      <td>5,903</td>\n",
       "    </tr>\n",
       "    <tr>\n",
       "      <th>2</th>\n",
       "      <td>Air India</td>\n",
       "      <td>BOM</td>\n",
       "      <td>DEL</td>\n",
       "      <td>9:00 AM</td>\n",
       "      <td>11:20 AM</td>\n",
       "      <td>2 hr 20 min</td>\n",
       "      <td>Nonstop</td>\n",
       "      <td>5,944</td>\n",
       "    </tr>\n",
       "    <tr>\n",
       "      <th>3</th>\n",
       "      <td>Vistara</td>\n",
       "      <td>BOM</td>\n",
       "      <td>DEL</td>\n",
       "      <td>6:30 AM</td>\n",
       "      <td>8:35 AM</td>\n",
       "      <td>2 hr 5 min</td>\n",
       "      <td>Nonstop</td>\n",
       "      <td>6,079</td>\n",
       "    </tr>\n",
       "    <tr>\n",
       "      <th>4</th>\n",
       "      <td>SpiceJet</td>\n",
       "      <td>BOM</td>\n",
       "      <td>DEL</td>\n",
       "      <td>10:15 AM</td>\n",
       "      <td>12:30 PM</td>\n",
       "      <td>2 hr 15 min</td>\n",
       "      <td>Nonstop</td>\n",
       "      <td>6,317</td>\n",
       "    </tr>\n",
       "    <tr>\n",
       "      <th>...</th>\n",
       "      <td>...</td>\n",
       "      <td>...</td>\n",
       "      <td>...</td>\n",
       "      <td>...</td>\n",
       "      <td>...</td>\n",
       "      <td>...</td>\n",
       "      <td>...</td>\n",
       "      <td>...</td>\n",
       "    </tr>\n",
       "    <tr>\n",
       "      <th>249</th>\n",
       "      <td>Vistara</td>\n",
       "      <td>BOM</td>\n",
       "      <td>DEL</td>\n",
       "      <td>9:30 PM</td>\n",
       "      <td>12:40 AM+2</td>\n",
       "      <td>27 hr 10 min</td>\n",
       "      <td>2 stops</td>\n",
       "      <td>17,366</td>\n",
       "    </tr>\n",
       "    <tr>\n",
       "      <th>250</th>\n",
       "      <td>Air India</td>\n",
       "      <td>BOM</td>\n",
       "      <td>DEL</td>\n",
       "      <td>1:25 PM</td>\n",
       "      <td>3:55 AM+1</td>\n",
       "      <td>14 hr 30 min</td>\n",
       "      <td>1 stop</td>\n",
       "      <td>18,228</td>\n",
       "    </tr>\n",
       "    <tr>\n",
       "      <th>251</th>\n",
       "      <td>Air India</td>\n",
       "      <td>BOM</td>\n",
       "      <td>DEL</td>\n",
       "      <td>9:00 PM</td>\n",
       "      <td>3:55 AM+1</td>\n",
       "      <td>6 hr 55 min</td>\n",
       "      <td>1 stop</td>\n",
       "      <td>18,228</td>\n",
       "    </tr>\n",
       "    <tr>\n",
       "      <th>252</th>\n",
       "      <td>Air India</td>\n",
       "      <td>BOM</td>\n",
       "      <td>DEL</td>\n",
       "      <td>9:00 PM</td>\n",
       "      <td>4:45 PM+1</td>\n",
       "      <td>19 hr 45 min</td>\n",
       "      <td>1 stop</td>\n",
       "      <td>18,228</td>\n",
       "    </tr>\n",
       "    <tr>\n",
       "      <th>253</th>\n",
       "      <td>Air India</td>\n",
       "      <td>BOM</td>\n",
       "      <td>DEL</td>\n",
       "      <td>9:05 PM</td>\n",
       "      <td>12:05 AM+2</td>\n",
       "      <td>27 hr</td>\n",
       "      <td>2 stops</td>\n",
       "      <td>20,014</td>\n",
       "    </tr>\n",
       "  </tbody>\n",
       "</table>\n",
       "<p>254 rows × 8 columns</p>\n",
       "</div>"
      ],
      "text/plain": [
       "       Airline Source Destination Departure     Arrival      Duration  \\\n",
       "0     GO FIRST    BOM         DEL   9:55 AM    12:10 PM   2 hr 15 min   \n",
       "1       IndiGo    BOM         DEL   2:40 AM     4:45 AM    2 hr 5 min   \n",
       "2    Air India    BOM         DEL   9:00 AM    11:20 AM   2 hr 20 min   \n",
       "3      Vistara    BOM         DEL   6:30 AM     8:35 AM    2 hr 5 min   \n",
       "4     SpiceJet    BOM         DEL  10:15 AM    12:30 PM   2 hr 15 min   \n",
       "..         ...    ...         ...       ...         ...           ...   \n",
       "249    Vistara    BOM         DEL   9:30 PM  12:40 AM+2  27 hr 10 min   \n",
       "250  Air India    BOM         DEL   1:25 PM   3:55 AM+1  14 hr 30 min   \n",
       "251  Air India    BOM         DEL   9:00 PM   3:55 AM+1   6 hr 55 min   \n",
       "252  Air India    BOM         DEL   9:00 PM   4:45 PM+1  19 hr 45 min   \n",
       "253  Air India    BOM         DEL   9:05 PM  12:05 AM+2         27 hr   \n",
       "\n",
       "    Total_stops   Price  \n",
       "0       Nonstop   5,897  \n",
       "1       Nonstop   5,903  \n",
       "2       Nonstop   5,944  \n",
       "3       Nonstop   6,079  \n",
       "4       Nonstop   6,317  \n",
       "..          ...     ...  \n",
       "249     2 stops  17,366  \n",
       "250      1 stop  18,228  \n",
       "251      1 stop  18,228  \n",
       "252      1 stop  18,228  \n",
       "253     2 stops  20,014  \n",
       "\n",
       "[254 rows x 8 columns]"
      ]
     },
     "execution_count": 101,
     "metadata": {},
     "output_type": "execute_result"
    }
   ],
   "source": [
    "MD = pd.DataFrame({})\n",
    "MD['Airline'] = Air\n",
    "MD['Source'] = Source\n",
    "MD['Destination'] = Destination\n",
    "MD['Departure'] = Departure\n",
    "MD['Arrival'] = Arrival\n",
    "MD['Duration'] = Duration\n",
    "MD['Total_stops'] = Total_stops\n",
    "MD['Price'] = Price\n",
    "\n",
    "MD"
   ]
  },
  {
   "cell_type": "code",
   "execution_count": 102,
   "id": "97de204d",
   "metadata": {},
   "outputs": [],
   "source": [
    "MD.to_csv('md.csv')"
   ]
  },
  {
   "cell_type": "markdown",
   "id": "7f1eb1ba",
   "metadata": {},
   "source": [
    "### Hyderabad to Pune"
   ]
  },
  {
   "cell_type": "code",
   "execution_count": 112,
   "id": "2b8a856b",
   "metadata": {},
   "outputs": [
    {
     "data": {
      "text/plain": [
       "194"
      ]
     },
     "execution_count": 112,
     "metadata": {},
     "output_type": "execute_result"
    }
   ],
   "source": [
    "Air = []\n",
    "\n",
    "arr = driver.find_elements_by_xpath('//div[@class=\"TQqf0e sSHqwe tPgKwe ogfYpf\"]/span')\n",
    "for i in arr:\n",
    "    a = i.text\n",
    "    Air.append(a)\n",
    "    \n",
    "len(Air)"
   ]
  },
  {
   "cell_type": "code",
   "execution_count": 113,
   "id": "7f675a88",
   "metadata": {},
   "outputs": [
    {
     "data": {
      "text/plain": [
       "194"
      ]
     },
     "execution_count": 113,
     "metadata": {},
     "output_type": "execute_result"
    }
   ],
   "source": [
    "Departure = []\n",
    "\n",
    "dept = driver.find_elements_by_xpath('//span[@class=\"mv1WYe\"]/span[1]')\n",
    "for i in dept:\n",
    "    d = i.text\n",
    "    Departure.append(d)\n",
    "    \n",
    "len(Departure)"
   ]
  },
  {
   "cell_type": "code",
   "execution_count": 114,
   "id": "04c1fc9f",
   "metadata": {},
   "outputs": [
    {
     "data": {
      "text/plain": [
       "194"
      ]
     },
     "execution_count": 114,
     "metadata": {},
     "output_type": "execute_result"
    }
   ],
   "source": [
    "Arrival = []\n",
    "\n",
    "arrvl = driver.find_elements_by_xpath('//span[@class=\"mv1WYe\"]/span[2]')\n",
    "for i in arrvl:\n",
    "    arr = i.text\n",
    "    Arrival.append(arr)\n",
    "    \n",
    "len(Arrival)"
   ]
  },
  {
   "cell_type": "code",
   "execution_count": 115,
   "id": "f9ba05d6",
   "metadata": {},
   "outputs": [
    {
     "data": {
      "text/plain": [
       "194"
      ]
     },
     "execution_count": 115,
     "metadata": {},
     "output_type": "execute_result"
    }
   ],
   "source": [
    "Source = []\n",
    "\n",
    "source = driver.find_elements_by_xpath('//span[@class=\"z0fuv sSHqwe tPgKwe ogfYpf\"]/span[1]')\n",
    "for i in source:\n",
    "    s = i.text\n",
    "    Source.append(s)\n",
    "    \n",
    "len(Source)"
   ]
  },
  {
   "cell_type": "code",
   "execution_count": 116,
   "id": "ccf8c5a3",
   "metadata": {},
   "outputs": [
    {
     "data": {
      "text/plain": [
       "194"
      ]
     },
     "execution_count": 116,
     "metadata": {},
     "output_type": "execute_result"
    }
   ],
   "source": [
    "Destination = []\n",
    "\n",
    "destin = driver.find_elements_by_xpath('//span[@class=\"z0fuv sSHqwe tPgKwe ogfYpf\"]/span[2]')\n",
    "for i in destin:\n",
    "    dest = i.text\n",
    "    Destination.append(dest)\n",
    "    \n",
    "len(Destination)"
   ]
  },
  {
   "cell_type": "code",
   "execution_count": 117,
   "id": "32a85d9e",
   "metadata": {},
   "outputs": [
    {
     "data": {
      "text/plain": [
       "194"
      ]
     },
     "execution_count": 117,
     "metadata": {},
     "output_type": "execute_result"
    }
   ],
   "source": [
    "Duration = []\n",
    "\n",
    "duration = driver.find_elements_by_xpath('//div[@class=\"gvkrdb AdWm1c tPgKwe ogfYpf\"]')\n",
    "for i in duration:\n",
    "    dur = i.text\n",
    "    Duration.append(dur)\n",
    "    \n",
    "len(Duration)"
   ]
  },
  {
   "cell_type": "code",
   "execution_count": 118,
   "id": "03ca97c2",
   "metadata": {},
   "outputs": [
    {
     "data": {
      "text/plain": [
       "194"
      ]
     },
     "execution_count": 118,
     "metadata": {},
     "output_type": "execute_result"
    }
   ],
   "source": [
    "Total_stops = []\n",
    "\n",
    "stops = driver.find_elements_by_xpath('//span[@class=\"pIgMWd ogfYpf\"]')\n",
    "for i in stops:\n",
    "    stp = i.text\n",
    "    Total_stops.append(stp)\n",
    "    \n",
    "len(Total_stops)"
   ]
  },
  {
   "cell_type": "code",
   "execution_count": 119,
   "id": "2e5ec2ea",
   "metadata": {},
   "outputs": [
    {
     "data": {
      "text/plain": [
       "194"
      ]
     },
     "execution_count": 119,
     "metadata": {},
     "output_type": "execute_result"
    }
   ],
   "source": [
    "Price = []\n",
    "\n",
    "price = driver.find_elements_by_xpath('//div[@class=\"BVAVmf I11szd POX3ye\"]/div[2]/span')\n",
    "for i in price:\n",
    "    p = i.text.strip('₹')\n",
    "    Price.append(p)\n",
    "    \n",
    "len(Price)"
   ]
  },
  {
   "cell_type": "code",
   "execution_count": 120,
   "id": "d92bf686",
   "metadata": {},
   "outputs": [
    {
     "data": {
      "text/html": [
       "<div>\n",
       "<style scoped>\n",
       "    .dataframe tbody tr th:only-of-type {\n",
       "        vertical-align: middle;\n",
       "    }\n",
       "\n",
       "    .dataframe tbody tr th {\n",
       "        vertical-align: top;\n",
       "    }\n",
       "\n",
       "    .dataframe thead th {\n",
       "        text-align: right;\n",
       "    }\n",
       "</style>\n",
       "<table border=\"1\" class=\"dataframe\">\n",
       "  <thead>\n",
       "    <tr style=\"text-align: right;\">\n",
       "      <th></th>\n",
       "      <th>Airline</th>\n",
       "      <th>Source</th>\n",
       "      <th>Destination</th>\n",
       "      <th>Departure</th>\n",
       "      <th>Arrival</th>\n",
       "      <th>Duration</th>\n",
       "      <th>Total_stops</th>\n",
       "      <th>Price</th>\n",
       "    </tr>\n",
       "  </thead>\n",
       "  <tbody>\n",
       "    <tr>\n",
       "      <th>0</th>\n",
       "      <td>IndiGo</td>\n",
       "      <td>HYD</td>\n",
       "      <td>PNQ</td>\n",
       "      <td>4:35 AM</td>\n",
       "      <td>5:45 AM</td>\n",
       "      <td>1 hr 10 min</td>\n",
       "      <td>Nonstop</td>\n",
       "      <td>5,807</td>\n",
       "    </tr>\n",
       "    <tr>\n",
       "      <th>1</th>\n",
       "      <td>IndiGo</td>\n",
       "      <td>HYD</td>\n",
       "      <td>PNQ</td>\n",
       "      <td>4:20 PM</td>\n",
       "      <td>5:30 PM</td>\n",
       "      <td>1 hr 10 min</td>\n",
       "      <td>Nonstop</td>\n",
       "      <td>5,807</td>\n",
       "    </tr>\n",
       "    <tr>\n",
       "      <th>2</th>\n",
       "      <td>IndiGo</td>\n",
       "      <td>HYD</td>\n",
       "      <td>PNQ</td>\n",
       "      <td>10:25 PM</td>\n",
       "      <td>11:35 PM</td>\n",
       "      <td>1 hr 10 min</td>\n",
       "      <td>Nonstop</td>\n",
       "      <td>5,807</td>\n",
       "    </tr>\n",
       "    <tr>\n",
       "      <th>3</th>\n",
       "      <td>SpiceJet</td>\n",
       "      <td>HYD</td>\n",
       "      <td>PNQ</td>\n",
       "      <td>8:00 PM</td>\n",
       "      <td>9:15 PM</td>\n",
       "      <td>1 hr 15 min</td>\n",
       "      <td>Nonstop</td>\n",
       "      <td>5,906</td>\n",
       "    </tr>\n",
       "    <tr>\n",
       "      <th>4</th>\n",
       "      <td>IndiGo</td>\n",
       "      <td>HYD</td>\n",
       "      <td>PNQ</td>\n",
       "      <td>2:45 PM</td>\n",
       "      <td>12:45 AM+1</td>\n",
       "      <td>10 hr</td>\n",
       "      <td>1 stop</td>\n",
       "      <td>6,910</td>\n",
       "    </tr>\n",
       "    <tr>\n",
       "      <th>...</th>\n",
       "      <td>...</td>\n",
       "      <td>...</td>\n",
       "      <td>...</td>\n",
       "      <td>...</td>\n",
       "      <td>...</td>\n",
       "      <td>...</td>\n",
       "      <td>...</td>\n",
       "      <td>...</td>\n",
       "    </tr>\n",
       "    <tr>\n",
       "      <th>189</th>\n",
       "      <td>Gulf Air, Air India</td>\n",
       "      <td>HYD</td>\n",
       "      <td>PNQ</td>\n",
       "      <td>5:50 AM</td>\n",
       "      <td>7:00 AM+1</td>\n",
       "      <td>25 hr 10 min</td>\n",
       "      <td>2 stops</td>\n",
       "      <td>58,775</td>\n",
       "    </tr>\n",
       "    <tr>\n",
       "      <th>190</th>\n",
       "      <td>Gulf Air, Air India</td>\n",
       "      <td>HYD</td>\n",
       "      <td>PNQ</td>\n",
       "      <td>5:50 AM</td>\n",
       "      <td>6:10 PM+1</td>\n",
       "      <td>36 hr 20 min</td>\n",
       "      <td>2 stops</td>\n",
       "      <td>58,775</td>\n",
       "    </tr>\n",
       "    <tr>\n",
       "      <th>191</th>\n",
       "      <td>Gulf Air, Air India</td>\n",
       "      <td>HYD</td>\n",
       "      <td>PNQ</td>\n",
       "      <td>5:50 AM</td>\n",
       "      <td>6:10 PM+1</td>\n",
       "      <td>36 hr 20 min</td>\n",
       "      <td>2 stops</td>\n",
       "      <td>58,775</td>\n",
       "    </tr>\n",
       "    <tr>\n",
       "      <th>192</th>\n",
       "      <td>Gulf Air, Air India</td>\n",
       "      <td>HYD</td>\n",
       "      <td>PNQ</td>\n",
       "      <td>5:50 AM</td>\n",
       "      <td>6:10 PM+1</td>\n",
       "      <td>36 hr 20 min</td>\n",
       "      <td>2 stops</td>\n",
       "      <td>58,775</td>\n",
       "    </tr>\n",
       "    <tr>\n",
       "      <th>193</th>\n",
       "      <td>SriLankan, Air India</td>\n",
       "      <td>HYD</td>\n",
       "      <td>PNQ</td>\n",
       "      <td>4:30 AM</td>\n",
       "      <td>6:10 PM+1</td>\n",
       "      <td>37 hr 40 min</td>\n",
       "      <td>2 stops</td>\n",
       "      <td>59,737</td>\n",
       "    </tr>\n",
       "  </tbody>\n",
       "</table>\n",
       "<p>194 rows × 8 columns</p>\n",
       "</div>"
      ],
      "text/plain": [
       "                  Airline Source Destination Departure     Arrival  \\\n",
       "0                  IndiGo    HYD         PNQ   4:35 AM     5:45 AM   \n",
       "1                  IndiGo    HYD         PNQ   4:20 PM     5:30 PM   \n",
       "2                  IndiGo    HYD         PNQ  10:25 PM    11:35 PM   \n",
       "3                SpiceJet    HYD         PNQ   8:00 PM     9:15 PM   \n",
       "4                  IndiGo    HYD         PNQ   2:45 PM  12:45 AM+1   \n",
       "..                    ...    ...         ...       ...         ...   \n",
       "189   Gulf Air, Air India    HYD         PNQ   5:50 AM   7:00 AM+1   \n",
       "190   Gulf Air, Air India    HYD         PNQ   5:50 AM   6:10 PM+1   \n",
       "191   Gulf Air, Air India    HYD         PNQ   5:50 AM   6:10 PM+1   \n",
       "192   Gulf Air, Air India    HYD         PNQ   5:50 AM   6:10 PM+1   \n",
       "193  SriLankan, Air India    HYD         PNQ   4:30 AM   6:10 PM+1   \n",
       "\n",
       "         Duration Total_stops   Price  \n",
       "0     1 hr 10 min     Nonstop   5,807  \n",
       "1     1 hr 10 min     Nonstop   5,807  \n",
       "2     1 hr 10 min     Nonstop   5,807  \n",
       "3     1 hr 15 min     Nonstop   5,906  \n",
       "4           10 hr      1 stop   6,910  \n",
       "..            ...         ...     ...  \n",
       "189  25 hr 10 min     2 stops  58,775  \n",
       "190  36 hr 20 min     2 stops  58,775  \n",
       "191  36 hr 20 min     2 stops  58,775  \n",
       "192  36 hr 20 min     2 stops  58,775  \n",
       "193  37 hr 40 min     2 stops  59,737  \n",
       "\n",
       "[194 rows x 8 columns]"
      ]
     },
     "execution_count": 120,
     "metadata": {},
     "output_type": "execute_result"
    }
   ],
   "source": [
    "HP= pd.DataFrame({})\n",
    "HP['Airline'] = Air\n",
    "HP['Source'] = Source\n",
    "HP['Destination'] = Destination\n",
    "HP['Departure'] = Departure\n",
    "HP['Arrival'] = Arrival\n",
    "HP['Duration'] = Duration\n",
    "HP['Total_stops'] = Total_stops\n",
    "HP['Price'] = Price\n",
    "\n",
    "HP"
   ]
  },
  {
   "cell_type": "code",
   "execution_count": 121,
   "id": "993ace85",
   "metadata": {},
   "outputs": [],
   "source": [
    "HP.to_csv('hp.csv')"
   ]
  },
  {
   "cell_type": "markdown",
   "id": "2570a333",
   "metadata": {},
   "source": [
    "### Nagpur to Mumbai"
   ]
  },
  {
   "cell_type": "code",
   "execution_count": 122,
   "id": "dc52e70f",
   "metadata": {},
   "outputs": [
    {
     "data": {
      "text/plain": [
       "116"
      ]
     },
     "execution_count": 122,
     "metadata": {},
     "output_type": "execute_result"
    }
   ],
   "source": [
    "Air = []\n",
    "\n",
    "arr = driver.find_elements_by_xpath('//div[@class=\"TQqf0e sSHqwe tPgKwe ogfYpf\"]/span')\n",
    "for i in arr:\n",
    "    a = i.text\n",
    "    Air.append(a)\n",
    "    \n",
    "len(Air)"
   ]
  },
  {
   "cell_type": "code",
   "execution_count": 123,
   "id": "c0e04a77",
   "metadata": {},
   "outputs": [
    {
     "data": {
      "text/plain": [
       "116"
      ]
     },
     "execution_count": 123,
     "metadata": {},
     "output_type": "execute_result"
    }
   ],
   "source": [
    "Departure = []\n",
    "\n",
    "dept = driver.find_elements_by_xpath('//span[@class=\"mv1WYe\"]/span[1]')\n",
    "for i in dept:\n",
    "    d = i.text\n",
    "    Departure.append(d)\n",
    "    \n",
    "len(Departure)"
   ]
  },
  {
   "cell_type": "code",
   "execution_count": 124,
   "id": "132c7a83",
   "metadata": {},
   "outputs": [
    {
     "data": {
      "text/plain": [
       "116"
      ]
     },
     "execution_count": 124,
     "metadata": {},
     "output_type": "execute_result"
    }
   ],
   "source": [
    "Arrival = []\n",
    "\n",
    "arrvl = driver.find_elements_by_xpath('//span[@class=\"mv1WYe\"]/span[2]')\n",
    "for i in arrvl:\n",
    "    arr = i.text\n",
    "    Arrival.append(arr)\n",
    "    \n",
    "len(Arrival)"
   ]
  },
  {
   "cell_type": "code",
   "execution_count": 125,
   "id": "6419d641",
   "metadata": {},
   "outputs": [
    {
     "data": {
      "text/plain": [
       "116"
      ]
     },
     "execution_count": 125,
     "metadata": {},
     "output_type": "execute_result"
    }
   ],
   "source": [
    "Source = []\n",
    "\n",
    "source = driver.find_elements_by_xpath('//span[@class=\"z0fuv sSHqwe tPgKwe ogfYpf\"]/span[1]')\n",
    "for i in source:\n",
    "    s = i.text\n",
    "    Source.append(s)\n",
    "    \n",
    "len(Source)"
   ]
  },
  {
   "cell_type": "code",
   "execution_count": 126,
   "id": "a77cac14",
   "metadata": {},
   "outputs": [
    {
     "data": {
      "text/plain": [
       "116"
      ]
     },
     "execution_count": 126,
     "metadata": {},
     "output_type": "execute_result"
    }
   ],
   "source": [
    "Destination = []\n",
    "\n",
    "destin = driver.find_elements_by_xpath('//span[@class=\"z0fuv sSHqwe tPgKwe ogfYpf\"]/span[2]')\n",
    "for i in destin:\n",
    "    dest = i.text\n",
    "    Destination.append(dest)\n",
    "    \n",
    "len(Destination)"
   ]
  },
  {
   "cell_type": "code",
   "execution_count": 127,
   "id": "722f1555",
   "metadata": {},
   "outputs": [
    {
     "data": {
      "text/plain": [
       "116"
      ]
     },
     "execution_count": 127,
     "metadata": {},
     "output_type": "execute_result"
    }
   ],
   "source": [
    "Duration = []\n",
    "\n",
    "duration = driver.find_elements_by_xpath('//div[@class=\"gvkrdb AdWm1c tPgKwe ogfYpf\"]')\n",
    "for i in duration:\n",
    "    dur = i.text\n",
    "    Duration.append(dur)\n",
    "    \n",
    "len(Duration)"
   ]
  },
  {
   "cell_type": "code",
   "execution_count": 128,
   "id": "cd543466",
   "metadata": {},
   "outputs": [
    {
     "data": {
      "text/plain": [
       "116"
      ]
     },
     "execution_count": 128,
     "metadata": {},
     "output_type": "execute_result"
    }
   ],
   "source": [
    "Total_stops = []\n",
    "\n",
    "stops = driver.find_elements_by_xpath('//span[@class=\"pIgMWd ogfYpf\"]')\n",
    "for i in stops:\n",
    "    stp = i.text\n",
    "    Total_stops.append(stp)\n",
    "    \n",
    "len(Total_stops)"
   ]
  },
  {
   "cell_type": "code",
   "execution_count": 129,
   "id": "aac7506b",
   "metadata": {},
   "outputs": [
    {
     "data": {
      "text/plain": [
       "116"
      ]
     },
     "execution_count": 129,
     "metadata": {},
     "output_type": "execute_result"
    }
   ],
   "source": [
    "Price = []\n",
    "\n",
    "price = driver.find_elements_by_xpath('//div[@class=\"BVAVmf I11szd POX3ye\"]/div[2]/span')\n",
    "for i in price:\n",
    "    p = i.text.strip('₹')\n",
    "    Price.append(p)\n",
    "    \n",
    "len(Price)"
   ]
  },
  {
   "cell_type": "code",
   "execution_count": 130,
   "id": "1e7c07f5",
   "metadata": {},
   "outputs": [
    {
     "data": {
      "text/html": [
       "<div>\n",
       "<style scoped>\n",
       "    .dataframe tbody tr th:only-of-type {\n",
       "        vertical-align: middle;\n",
       "    }\n",
       "\n",
       "    .dataframe tbody tr th {\n",
       "        vertical-align: top;\n",
       "    }\n",
       "\n",
       "    .dataframe thead th {\n",
       "        text-align: right;\n",
       "    }\n",
       "</style>\n",
       "<table border=\"1\" class=\"dataframe\">\n",
       "  <thead>\n",
       "    <tr style=\"text-align: right;\">\n",
       "      <th></th>\n",
       "      <th>Airline</th>\n",
       "      <th>Source</th>\n",
       "      <th>Destination</th>\n",
       "      <th>Departure</th>\n",
       "      <th>Arrival</th>\n",
       "      <th>Duration</th>\n",
       "      <th>Total_stops</th>\n",
       "      <th>Price</th>\n",
       "    </tr>\n",
       "  </thead>\n",
       "  <tbody>\n",
       "    <tr>\n",
       "      <th>0</th>\n",
       "      <td>IndiGo</td>\n",
       "      <td>NAG</td>\n",
       "      <td>BOM</td>\n",
       "      <td>11:45 AM</td>\n",
       "      <td>1:15 PM</td>\n",
       "      <td>1 hr 30 min</td>\n",
       "      <td>Nonstop</td>\n",
       "      <td>4,526</td>\n",
       "    </tr>\n",
       "    <tr>\n",
       "      <th>1</th>\n",
       "      <td>IndiGo</td>\n",
       "      <td>NAG</td>\n",
       "      <td>BOM</td>\n",
       "      <td>3:30 PM</td>\n",
       "      <td>4:55 PM</td>\n",
       "      <td>1 hr 25 min</td>\n",
       "      <td>Nonstop</td>\n",
       "      <td>4,526</td>\n",
       "    </tr>\n",
       "    <tr>\n",
       "      <th>2</th>\n",
       "      <td>GO FIRST</td>\n",
       "      <td>NAG</td>\n",
       "      <td>BOM</td>\n",
       "      <td>8:00 AM</td>\n",
       "      <td>9:35 AM</td>\n",
       "      <td>1 hr 35 min</td>\n",
       "      <td>Nonstop</td>\n",
       "      <td>4,527</td>\n",
       "    </tr>\n",
       "    <tr>\n",
       "      <th>3</th>\n",
       "      <td>IndiGo</td>\n",
       "      <td>NAG</td>\n",
       "      <td>BOM</td>\n",
       "      <td>6:00 AM</td>\n",
       "      <td>7:25 AM</td>\n",
       "      <td>1 hr 25 min</td>\n",
       "      <td>Nonstop</td>\n",
       "      <td>4,526</td>\n",
       "    </tr>\n",
       "    <tr>\n",
       "      <th>4</th>\n",
       "      <td>IndiGo</td>\n",
       "      <td>NAG</td>\n",
       "      <td>BOM</td>\n",
       "      <td>11:10 PM</td>\n",
       "      <td>12:40 AM+1</td>\n",
       "      <td>1 hr 30 min</td>\n",
       "      <td>Nonstop</td>\n",
       "      <td>4,526</td>\n",
       "    </tr>\n",
       "    <tr>\n",
       "      <th>...</th>\n",
       "      <td>...</td>\n",
       "      <td>...</td>\n",
       "      <td>...</td>\n",
       "      <td>...</td>\n",
       "      <td>...</td>\n",
       "      <td>...</td>\n",
       "      <td>...</td>\n",
       "      <td>...</td>\n",
       "    </tr>\n",
       "    <tr>\n",
       "      <th>111</th>\n",
       "      <td>Air India, Gulf Air</td>\n",
       "      <td>NAG</td>\n",
       "      <td>BOM</td>\n",
       "      <td>7:40 AM</td>\n",
       "      <td>4:55 AM+2</td>\n",
       "      <td>45 hr 15 min</td>\n",
       "      <td>2 stops</td>\n",
       "      <td>55,655</td>\n",
       "    </tr>\n",
       "    <tr>\n",
       "      <th>112</th>\n",
       "      <td>Air India, Gulf Air</td>\n",
       "      <td>NAG</td>\n",
       "      <td>BOM</td>\n",
       "      <td>7:40 AM</td>\n",
       "      <td>4:55 AM+2</td>\n",
       "      <td>45 hr 15 min</td>\n",
       "      <td>2 stops</td>\n",
       "      <td>55,655</td>\n",
       "    </tr>\n",
       "    <tr>\n",
       "      <th>113</th>\n",
       "      <td>Qatar Airways, IndiGo</td>\n",
       "      <td>NAG</td>\n",
       "      <td>BOM</td>\n",
       "      <td>5:05 AM</td>\n",
       "      <td>2:10 PM</td>\n",
       "      <td>9 hr 5 min</td>\n",
       "      <td>1 stop</td>\n",
       "      <td>68,409</td>\n",
       "    </tr>\n",
       "    <tr>\n",
       "      <th>114</th>\n",
       "      <td>Qatar Airways, IndiGo</td>\n",
       "      <td>NAG</td>\n",
       "      <td>BOM</td>\n",
       "      <td>5:05 AM</td>\n",
       "      <td>2:55 AM+1</td>\n",
       "      <td>21 hr 50 min</td>\n",
       "      <td>1 stop</td>\n",
       "      <td>68,409</td>\n",
       "    </tr>\n",
       "    <tr>\n",
       "      <th>115</th>\n",
       "      <td>Qatar Airways</td>\n",
       "      <td>NAG</td>\n",
       "      <td>BOM</td>\n",
       "      <td>5:05 AM</td>\n",
       "      <td>2:45 AM+1</td>\n",
       "      <td>21 hr 40 min</td>\n",
       "      <td>1 stop</td>\n",
       "      <td>73,575</td>\n",
       "    </tr>\n",
       "  </tbody>\n",
       "</table>\n",
       "<p>116 rows × 8 columns</p>\n",
       "</div>"
      ],
      "text/plain": [
       "                   Airline Source Destination Departure     Arrival  \\\n",
       "0                   IndiGo    NAG         BOM  11:45 AM     1:15 PM   \n",
       "1                   IndiGo    NAG         BOM   3:30 PM     4:55 PM   \n",
       "2                 GO FIRST    NAG         BOM   8:00 AM     9:35 AM   \n",
       "3                   IndiGo    NAG         BOM   6:00 AM     7:25 AM   \n",
       "4                   IndiGo    NAG         BOM  11:10 PM  12:40 AM+1   \n",
       "..                     ...    ...         ...       ...         ...   \n",
       "111    Air India, Gulf Air    NAG         BOM   7:40 AM   4:55 AM+2   \n",
       "112    Air India, Gulf Air    NAG         BOM   7:40 AM   4:55 AM+2   \n",
       "113  Qatar Airways, IndiGo    NAG         BOM   5:05 AM     2:10 PM   \n",
       "114  Qatar Airways, IndiGo    NAG         BOM   5:05 AM   2:55 AM+1   \n",
       "115          Qatar Airways    NAG         BOM   5:05 AM   2:45 AM+1   \n",
       "\n",
       "         Duration Total_stops   Price  \n",
       "0     1 hr 30 min     Nonstop   4,526  \n",
       "1     1 hr 25 min     Nonstop   4,526  \n",
       "2     1 hr 35 min     Nonstop   4,527  \n",
       "3     1 hr 25 min     Nonstop   4,526  \n",
       "4     1 hr 30 min     Nonstop   4,526  \n",
       "..            ...         ...     ...  \n",
       "111  45 hr 15 min     2 stops  55,655  \n",
       "112  45 hr 15 min     2 stops  55,655  \n",
       "113    9 hr 5 min      1 stop  68,409  \n",
       "114  21 hr 50 min      1 stop  68,409  \n",
       "115  21 hr 40 min      1 stop  73,575  \n",
       "\n",
       "[116 rows x 8 columns]"
      ]
     },
     "execution_count": 130,
     "metadata": {},
     "output_type": "execute_result"
    }
   ],
   "source": [
    "NM= pd.DataFrame({})\n",
    "NM['Airline'] = Air\n",
    "NM['Source'] = Source\n",
    "NM['Destination'] = Destination\n",
    "NM['Departure'] = Departure\n",
    "NM['Arrival'] = Arrival\n",
    "NM['Duration'] = Duration\n",
    "NM['Total_stops'] = Total_stops\n",
    "NM['Price'] = Price\n",
    "\n",
    "NM"
   ]
  },
  {
   "cell_type": "code",
   "execution_count": 131,
   "id": "a8dc28ff",
   "metadata": {},
   "outputs": [],
   "source": [
    "NM.to_csv('nm.csv')"
   ]
  },
  {
   "cell_type": "code",
   "execution_count": null,
   "id": "d48d6d93",
   "metadata": {},
   "outputs": [],
   "source": []
  },
  {
   "cell_type": "code",
   "execution_count": null,
   "id": "3b1a0bde",
   "metadata": {},
   "outputs": [],
   "source": []
  },
  {
   "cell_type": "markdown",
   "id": "de1061d9",
   "metadata": {},
   "source": [
    "### "
   ]
  }
 ],
 "metadata": {
  "kernelspec": {
   "display_name": "Python 3",
   "language": "python",
   "name": "python3"
  },
  "language_info": {
   "codemirror_mode": {
    "name": "ipython",
    "version": 3
   },
   "file_extension": ".py",
   "mimetype": "text/x-python",
   "name": "python",
   "nbconvert_exporter": "python",
   "pygments_lexer": "ipython3",
   "version": "3.8.8"
  }
 },
 "nbformat": 4,
 "nbformat_minor": 5
}
